{
 "cells": [
  {
   "cell_type": "code",
   "execution_count": 1,
   "metadata": {},
   "outputs": [
    {
     "name": "stderr",
     "output_type": "stream",
     "text": [
      "C:\\Users\\USER\\AppData\\Local\\Temp\\ipykernel_38152\\1347845016.py:5: DeprecationWarning: \n",
      "Pyarrow will become a required dependency of pandas in the next major release of pandas (pandas 3.0),\n",
      "(to allow more performant data types, such as the Arrow string type, and better interoperability with other libraries)\n",
      "but was not found to be installed on your system.\n",
      "If this would cause problems for you,\n",
      "please provide us feedback at https://github.com/pandas-dev/pandas/issues/54466\n",
      "        \n",
      "  import pandas as pd\n"
     ]
    }
   ],
   "source": [
    "from selenium.webdriver.chrome.service import Service\n",
    "from selenium.webdriver.common.keys import Keys\n",
    "from selenium.webdriver.chrome.options import Options\n",
    "from webdriver_manager.chrome import ChromeDriverManager\n",
    "import pandas as pd\n",
    "import numpy as np\n",
    "import time\n",
    "from selenium.webdriver.common.by import By\n",
    "from selenium.webdriver.support.ui import WebDriverWait\n",
    "from selenium.webdriver.support import expected_conditions as EC\n",
    "import re\n",
    "import selenium\n",
    "from selenium import webdriver\n",
    "import random\n",
    "from selenium.webdriver.common.action_chains import ActionChains\n",
    "from selenium.common.exceptions import WebDriverException\n",
    "from selenium.common.exceptions import TimeoutException\n",
    "from selenium.common.exceptions import StaleElementReferenceException\n",
    "import requests"
   ]
  },
  {
   "cell_type": "code",
   "execution_count": null,
   "metadata": {},
   "outputs": [],
   "source": [
    "'''from selenium import webdriver\n",
    "from selenium.webdriver.chrome.options import Options\n",
    "\n",
    "options = Options()\n",
    "options.binary_location = \"C:\\Program Files\\Google\\Chrome\\Application\\chrome.exe\"\n",
    "driver = webdriver.Chrome(chrome_options=options, executable_path=\"C:/Utility/BrowserDrivers/chromedriver.exe\", )\n",
    "driver.get('http://google.com/')'''"
   ]
  },
  {
   "cell_type": "code",
   "execution_count": 87,
   "metadata": {},
   "outputs": [
    {
     "data": {
      "text/plain": [
       "True"
      ]
     },
     "execution_count": 87,
     "metadata": {},
     "output_type": "execute_result"
    }
   ],
   "source": [
    "'''import undetected_chromedriver as uc\n",
    "driver = uc.Chrome(headless=True,use_subprocess=False)\n",
    "driver.get('https://nowsecure.nl')\n",
    "driver.save_screenshot('nowsecure.png')'''"
   ]
  },
  {
   "cell_type": "code",
   "execution_count": 96,
   "metadata": {},
   "outputs": [],
   "source": [
    "'''free_proxy = [\n",
    "    '162.240.75.37:80'\n",
    "    ] '''"
   ]
  },
  {
   "cell_type": "code",
   "execution_count": 21,
   "metadata": {},
   "outputs": [],
   "source": [
    "'''def get_proxy(proxies):\n",
    "    try:\n",
    "        proxy = random.choice(proxies)\n",
    "        print(proxy)\n",
    "        return proxy\n",
    "    except Exception as e:\n",
    "        print(f\"Proxy {proxy} failed due to error {e}\")\n",
    "    print(\"No working proxy has been found\")\n",
    "    return None'''"
   ]
  },
  {
   "cell_type": "code",
   "execution_count": 2,
   "metadata": {},
   "outputs": [],
   "source": [
    "chrome_options = Options()\n",
    "# PROXY = get_proxy(free_proxy)\n",
    "# chrome_options.add_argument(\"--incognito\")\n",
    "# chrome_options.add_argument(\"--proxy-server=%s\" % PROXY)\n",
    "chrome_options.add_experimental_option(\"detach\", True)\n",
    "chrome_options.headless = False # For debugging. SHould be set to True when running in an actual test case\n",
    "chrome_options.add_experimental_option(\"excludeSwitches\",[\"enable-logging\"])\n",
    "\n",
    "driver = webdriver.Chrome(options=chrome_options)"
   ]
  },
  {
   "cell_type": "code",
   "execution_count": 3,
   "metadata": {},
   "outputs": [
    {
     "name": "stdout",
     "output_type": "stream",
     "text": [
      "4.17.2\n"
     ]
    }
   ],
   "source": [
    "print(selenium.__version__)"
   ]
  },
  {
   "cell_type": "markdown",
   "metadata": {},
   "source": [
    "* Bloomberg Market News URL format: https://www.bloomberg.com/news/articles/2024-02-03/creditor-battles-are-hobbling-risky-debt-credit-weekly?srnd=markets-vp\n",
    "\n",
    "* Wall Street Journal Market News URL format: https://www.wsj.com/finance/investing/wall-street-gets-laser-eyes-in-bid-for-bitcoin-etf-bucks-3b890de3?mod=finance_lead_story\n",
    "\n",
    "* Yahoo Finance News URL format: https://finance.yahoo.com/news/analysts-made-financial-statement-dws-060237470.html\n"
   ]
  },
  {
   "cell_type": "code",
   "execution_count": 39,
   "metadata": {},
   "outputs": [],
   "source": [
    "'''from fake_useragent import UserAgent\n",
    "from bs4 import BeautifulSoup\n",
    "\n",
    "ua = UserAgent()\n",
    "print(ua.random)'''"
   ]
  },
  {
   "cell_type": "code",
   "execution_count": 61,
   "metadata": {},
   "outputs": [],
   "source": [
    "'''For future use\n",
    "\n",
    "def url_parser(url):\n",
    "    url = url.split('/')\n",
    "    keyword = url[2].split('.')\n",
    "    source = keyword[1]\n",
    "\n",
    "    if source == 'bloomberg':\n",
    "        url = get_blb_news(url)\n",
    "        return url\n",
    "    elif source == 'wsj':\n",
    "        url = get_wsj_news(url)\n",
    "        return url\n",
    "    elif source == 'yahoo':\n",
    "        url = get_yf_news(url)\n",
    "        return url\n",
    "    else:\n",
    "        return \"Source not supported\"'''"
   ]
  },
  {
   "cell_type": "markdown",
   "metadata": {},
   "source": [
    "* Bloomberg"
   ]
  },
  {
   "cell_type": "code",
   "execution_count": 3,
   "metadata": {},
   "outputs": [],
   "source": [
    "# pip install requests beautifulsoup4\n",
    "import requests\n",
    "from zenrows import ZenRowsClient\n",
    "from bs4 import BeautifulSoup\n",
    "\n",
    "client = ZenRowsClient(\"04b5768a40a0533b80959905b6034b472ad61aa4\")\n",
    "url = \"https://www.bloomberg.com/news/articles/2024-02-07/stock-market-today-dow-s-p-live-updates?srnd=markets-vp\"\n",
    "params = {\"js_render\":\"true\",\"block_resources\":\"media,xhr,eventsource,image\"}\n",
    "\n",
    "response = client.get(url, params=params)\n",
    "soup = BeautifulSoup(response.text, \"html.parser\")\n",
    "\n",
    "blb_news = pd.DataFrame(columns=['URL','h1','text'])\n",
    "\n",
    "title = soup.find(\"h1\")\n",
    "p_tags = soup.find_all('p', attrs={'class': ['Paragraph_text-SqIsdNjh0t0-', 'Paragraph_text-SqIsdNjh0t0- paywall']})\n",
    "\n",
    "text_content = \"\"\n",
    "for p in p_tags:\n",
    "    text_content += p.text + \" \"\n",
    "text_content = text_content.strip()\n",
    "\n",
    "blb_news = blb_news._append(\n",
    "    {\"URL\": url,\n",
    "     \"h1\": title,\n",
    "     \"text\": text_content},\n",
    "    ignore_index=True\n",
    ")\n"
   ]
  },
  {
   "cell_type": "code",
   "execution_count": 4,
   "metadata": {},
   "outputs": [
    {
     "data": {
      "text/html": [
       "<div>\n",
       "<style scoped>\n",
       "    .dataframe tbody tr th:only-of-type {\n",
       "        vertical-align: middle;\n",
       "    }\n",
       "\n",
       "    .dataframe tbody tr th {\n",
       "        vertical-align: top;\n",
       "    }\n",
       "\n",
       "    .dataframe thead th {\n",
       "        text-align: right;\n",
       "    }\n",
       "</style>\n",
       "<table border=\"1\" class=\"dataframe\">\n",
       "  <thead>\n",
       "    <tr style=\"text-align: right;\">\n",
       "      <th></th>\n",
       "      <th>URL</th>\n",
       "      <th>h1</th>\n",
       "      <th>text</th>\n",
       "    </tr>\n",
       "  </thead>\n",
       "  <tbody>\n",
       "    <tr>\n",
       "      <th>0</th>\n",
       "      <td>https://www.bloomberg.com/news/articles/2024-0...</td>\n",
       "      <td>[Bonds Fall After $25 Billion Sale as Stocks C...</td>\n",
       "      <td>Wall Street struggled to gain traction, with t...</td>\n",
       "    </tr>\n",
       "  </tbody>\n",
       "</table>\n",
       "</div>"
      ],
      "text/plain": [
       "                                                 URL  \\\n",
       "0  https://www.bloomberg.com/news/articles/2024-0...   \n",
       "\n",
       "                                                  h1  \\\n",
       "0  [Bonds Fall After $25 Billion Sale as Stocks C...   \n",
       "\n",
       "                                                text  \n",
       "0  Wall Street struggled to gain traction, with t...  "
      ]
     },
     "execution_count": 4,
     "metadata": {},
     "output_type": "execute_result"
    }
   ],
   "source": [
    "blb_news"
   ]
  },
  {
   "cell_type": "code",
   "execution_count": 6,
   "metadata": {},
   "outputs": [
    {
     "data": {
      "text/plain": [
       "0    Wall Street struggled to gain traction, with t...\n",
       "Name: text, dtype: object"
      ]
     },
     "execution_count": 6,
     "metadata": {},
     "output_type": "execute_result"
    }
   ],
   "source": [
    "blb_text = blb_news['text']\n",
    "blb_text"
   ]
  },
  {
   "cell_type": "code",
   "execution_count": 8,
   "metadata": {},
   "outputs": [
    {
     "name": "stdout",
     "output_type": "stream",
     "text": [
      "0    Wall Street struggled to gain traction, with t...\n"
     ]
    }
   ],
   "source": [
    "# seeing the full content of blb_text\n",
    "print(blb_text.to_string())"
   ]
  },
  {
   "cell_type": "code",
   "execution_count": 10,
   "metadata": {},
   "outputs": [
    {
     "data": {
      "text/plain": [
       "0    [Bonds Fall After $25 Billion Sale as Stocks C...\n",
       "Name: h1, dtype: object"
      ]
     },
     "execution_count": 10,
     "metadata": {},
     "output_type": "execute_result"
    }
   ],
   "source": [
    "blb_headline = blb_news['h1']\n",
    "blb_headline"
   ]
  },
  {
   "cell_type": "code",
   "execution_count": null,
   "metadata": {},
   "outputs": [],
   "source": [
    "'''def accept_cookies():\n",
    "    url = \"https://sourcepointcmp.bloomberg.com/wrapper/v2/choice/consent-all?hasCsp=true&accountId=1425&env=prod&includeCustomVendorsRes=true&metadata=%7B%22gdpr%22%3A%7B%22applies%22%3Atrue%7D%7D&propertyId=31489&withSiteActions=true&ch=44031679743938401199d44444831847b85&scriptVersion=4.15.1&scriptType=unified\"\n",
    "\n",
    "    payload = {}\n",
    "    headers = {\n",
    "    'authority': 'sourcepointcmp.bloomberg.com',\n",
    "    'accept': '*/*',\n",
    "    'accept-language': 'en-GB,en;q=0.9',\n",
    "    'content-type': 'application/json',\n",
    "    'origin': 'https://www.bloomberg.com',\n",
    "    'priority': 'u=1, i',\n",
    "    'referer': 'https://www.bloomberg.com/news/articles/2024-02-03/creditor-battles-are-hobbling-risky-debt-credit-weekly?srnd=markets-vp',\n",
    "    'sec-ch-ua': '\"Chromium\";v=\"121\", \"Not A(Brand\";v=\"99\"',\n",
    "    'sec-ch-ua-mobile': '?0',\n",
    "    'sec-ch-ua-platform': '\"Windows\"',\n",
    "    'sec-fetch-dest': 'empty',\n",
    "    'sec-fetch-mode': 'cors',\n",
    "    'sec-fetch-site': 'same-site',\n",
    "    'user-agent': 'Mozilla/5.0 (Windows NT 10.0; Win64; x64) AppleWebKit/537.36 (KHTML, like Gecko) Chrome/121.0.0.0 Safari/537.36'\n",
    "    }\n",
    "\n",
    "    response = requests.request(\"POST\", url, headers=headers, data=payload)\n",
    "\n",
    "    if response.status_code == 200:\n",
    "        print(\"Cookies accepted successfully.\")\n",
    "    else:\n",
    "        print(\"Failed to accept cookies.\")'''"
   ]
  },
  {
   "cell_type": "code",
   "execution_count": 6,
   "metadata": {},
   "outputs": [],
   "source": [
    "'''def get_blb_news(url):\n",
    "\n",
    "    driver = webdriver.Chrome(options=chrome_options)\n",
    "    driver.get(url)\n",
    "    driver.implicitly_wait(2)\n",
    "\n",
    "    try:\n",
    "        # To deal with the bot detector which requires a press to click and hold the button\n",
    "\n",
    "        # element = driver.find_element(By.CSS_ELEMENT, '#rQHSCwoJPFiQreg')\n",
    "        # action = ActionChains(driver)\n",
    "        # action.click_and_hold(element)\n",
    "        # action.perform()\n",
    "        # time.sleep(10)\n",
    "        # action.release(element)\n",
    "        # action.perform()\n",
    "        # time.sleep(0.2)\n",
    "        # action.release(element)\n",
    "\n",
    "        for web_page in range(2):\n",
    "            prev_height = driver.execute_script(\"return document.body.scrollHeight\")\n",
    "\n",
    "            while True:\n",
    "                driver.execute_script(\"window.scrollTo(0, document.body.scrollHeight)\")\n",
    "                time.sleep(5)\n",
    "                curr_height = driver.execute_script(\"return document.body.scrollHeight\")\n",
    "                if curr_height == prev_height:\n",
    "                    break\n",
    "                prev_height = curr_height\n",
    "\n",
    "            try:\n",
    "                # After dealing with the bot detector, need to accept cookies as well!\n",
    "\n",
    "                # accept_cookies() --> a method using requests to accept cookies\n",
    "                \n",
    "                button = WebDriverWait(driver, 10).until(\n",
    "                    EC.element_to_be_clickable((By.CLASS_NAME,\"sp_choice_type_11\"))\n",
    "                    )\n",
    "                button.click()\n",
    "                \n",
    "            except Exception as e:\n",
    "                print(f\"Error: {str(e)}\")\n",
    "\n",
    "        news_url = []\n",
    "        \n",
    "        hrefs = [element.get_attribute(\"href\") for element in driver.find_elements(By.XPATH, \"//*[@href]\")]\n",
    "\n",
    "        for href in hrefs:\n",
    "            news_url.append(href)\n",
    "\n",
    "        news = pd.DataFrame(columns=['url', 'h1', 'text'])\n",
    "\n",
    "        for url in news_url[:1]:\n",
    "            if url.endswith('.html'):\n",
    "                news_url.append(url)\n",
    "\n",
    "            h1 = driver.find_element(By.TAG_NAME, 'h1')\n",
    "            h1 = h1.text \n",
    "\n",
    "            p_tags = driver.find_elements(By.TAG_NAME, 'p')\n",
    "\n",
    "            text_content = \"\"\n",
    "            for p in p_tags:\n",
    "                text_content += p.text + \" \"\n",
    "            text_content = text_content.strip()\n",
    "\n",
    "            news = news._append({'url': url, 'h1': ''.join(h1), 'text': text_content}, ignore_index=True)\n",
    "            return news\n",
    "        \n",
    "    finally:    \n",
    "        driver.quit()'''"
   ]
  },
  {
   "cell_type": "code",
   "execution_count": 7,
   "metadata": {},
   "outputs": [
    {
     "name": "stdout",
     "output_type": "stream",
     "text": [
      "Error: Message: \n",
      "Stacktrace:\n",
      "\tGetHandleVerifier [0x00007FF614D05E42+3538674]\n",
      "\t(No symbol) [0x00007FF614924C02]\n",
      "\t(No symbol) [0x00007FF6147D5AEB]\n",
      "\t(No symbol) [0x00007FF61481BF4E]\n",
      "\t(No symbol) [0x00007FF61481C0CC]\n",
      "\t(No symbol) [0x00007FF61485E477]\n",
      "\t(No symbol) [0x00007FF61483F0EF]\n",
      "\t(No symbol) [0x00007FF61485BDE3]\n",
      "\t(No symbol) [0x00007FF61483EE53]\n",
      "\t(No symbol) [0x00007FF61480F514]\n",
      "\t(No symbol) [0x00007FF614810631]\n",
      "\tGetHandleVerifier [0x00007FF614D36CAD+3738973]\n",
      "\tGetHandleVerifier [0x00007FF614D8C506+4089270]\n",
      "\tGetHandleVerifier [0x00007FF614D84823+4057299]\n",
      "\tGetHandleVerifier [0x00007FF614A55C49+720121]\n",
      "\t(No symbol) [0x00007FF61493126F]\n",
      "\t(No symbol) [0x00007FF61492C304]\n",
      "\t(No symbol) [0x00007FF61492C432]\n",
      "\t(No symbol) [0x00007FF61491BD04]\n",
      "\tBaseThreadInitThunk [0x00007FF922AB257D+29]\n",
      "\tRtlUserThreadStart [0x00007FF923F6AA58+40]\n",
      "\n",
      "Error: Message: \n",
      "Stacktrace:\n",
      "\tGetHandleVerifier [0x00007FF614D05E42+3538674]\n",
      "\t(No symbol) [0x00007FF614924C02]\n",
      "\t(No symbol) [0x00007FF6147D5AEB]\n",
      "\t(No symbol) [0x00007FF61481BF4E]\n",
      "\t(No symbol) [0x00007FF61481C0CC]\n",
      "\t(No symbol) [0x00007FF61485E477]\n",
      "\t(No symbol) [0x00007FF61483F0EF]\n",
      "\t(No symbol) [0x00007FF61485BDE3]\n",
      "\t(No symbol) [0x00007FF61483EE53]\n",
      "\t(No symbol) [0x00007FF61480F514]\n",
      "\t(No symbol) [0x00007FF614810631]\n",
      "\tGetHandleVerifier [0x00007FF614D36CAD+3738973]\n",
      "\tGetHandleVerifier [0x00007FF614D8C506+4089270]\n",
      "\tGetHandleVerifier [0x00007FF614D84823+4057299]\n",
      "\tGetHandleVerifier [0x00007FF614A55C49+720121]\n",
      "\t(No symbol) [0x00007FF61493126F]\n",
      "\t(No symbol) [0x00007FF61492C304]\n",
      "\t(No symbol) [0x00007FF61492C432]\n",
      "\t(No symbol) [0x00007FF61491BD04]\n",
      "\tBaseThreadInitThunk [0x00007FF922AB257D+29]\n",
      "\tRtlUserThreadStart [0x00007FF923F6AA58+40]\n",
      "\n"
     ]
    }
   ],
   "source": [
    "'''blb_news = get_blb_news('https://www.bloomberg.com/news/articles/2024-02-06/goldman-morgan-stanley-bet-on-india-stocks-as-wall-street-shifts-from-china?srnd=premium-asia')'''"
   ]
  },
  {
   "cell_type": "code",
   "execution_count": 12,
   "metadata": {},
   "outputs": [],
   "source": [
    "'''Infinite looping...This was a disaster..\n",
    "\n",
    "def get_proxy(proxies, c_options):\n",
    "    while True:  \n",
    "\n",
    "        proxy = random.choice(proxies)\n",
    "        print(proxy)\n",
    "        chrome_options.add_argument(\"--incognito\")\n",
    "        chrome_options.add_argument(\"--proxy-server=%s\" % proxy)\n",
    "        chrome_options.add_experimental_option(\"detach\", True)\n",
    "        chrome_options.headless = False  # For debugging. Should be set to True when running in an actual test case\n",
    "        chrome_options.add_experimental_option(\"excludeSwitches\", [\"enable-logging\"])\n",
    "        driver = webdriver.Chrome(options=c_options)\n",
    "\n",
    "        try:\n",
    "            #news_data = get_blb_news('https://www.bloomberg.com/news/articles/2024-02-06/goldman-morgan-stanley-bet-on-india-stocks-as-wall-street-shifts-from-china?srnd=premium-asia')\n",
    "            #if news_data is not None:\n",
    "                #return news_data, proxy\n",
    "            #else:\n",
    "                #print('Failed to retrieve news data')\n",
    "\n",
    "        except (TimeoutException, WebDriverException) as e:  # This error message is not getting caught for some reason...\n",
    "            #print(f\"ERROR MESSAGE: {e} and the proxy ip port {proxy} has been blocked\")\n",
    "\n",
    "        finally:\n",
    "            #driver.quit()'''"
   ]
  },
  {
   "cell_type": "code",
   "execution_count": 13,
   "metadata": {},
   "outputs": [
    {
     "name": "stdout",
     "output_type": "stream",
     "text": [
      "50.231.172.74:80\n"
     ]
    }
   ],
   "source": [
    "'''test = get_proxy(free_proxy, chrome_options)'''"
   ]
  },
  {
   "cell_type": "code",
   "execution_count": 107,
   "metadata": {},
   "outputs": [
    {
     "data": {
      "text/plain": [
       "'Investors are paying close attention to the contrasting trajectories of two of Asia’s greatest powers.  A momentous shift is under way in global markets as investors pull billions of dollars from China’s sputtering economy, two decades after betting on the country as the world’s biggest growth story. Much of that cash is now heading for India, with Wall Street giants like Goldman Sachs Group Inc. and Morgan Stanley endorsing the South Asian nation as the prime investment destination for the next decade.'"
      ]
     },
     "execution_count": 107,
     "metadata": {},
     "output_type": "execute_result"
    }
   ],
   "source": [
    "'''blb_news['text'][0]'''"
   ]
  },
  {
   "cell_type": "code",
   "execution_count": 23,
   "metadata": {},
   "outputs": [
    {
     "data": {
      "text/plain": [
       "'Listen 6:13 Chinese shares rallied after authorities intensified rescue efforts, defying broader weakness in Asia as hopes ebbed for a swift Federal Reserve pivot toward policy easing. The Hang Seng Index rose 2% while the mainland benchmark of CSI 300 was up 1.8%. The gains came after Beijing took more steps to stem a stock rout, such as widening trading curbs on investors including quantitative funds. A pledge by the nation’s sovereign wealth fund to further increase holdings of exchange-traded funds also lifted investor mood. In contrast, equities in Japan, Australia and South Korea fell, while US equity futures were steady after the S&P 500 dropped 0.3% and the Nasdaq 100 shed 0.2% Monday. “Right now the market is looking for clearer signals on the economic recovery,” Marcella Chow, global market strategist for JPMorgan Asset Management, said on Bloomberg Television regarding China. “Expectations remain quite low — markets and investors are still grappling with the weak economic recovery.” The 10-year Treasury yield fell three basis points in Asian trading. That followed another bout of heavy selling Monday, spurred by strong US economic data, that pushed the rate up by 14 basis points, marking the biggest two-day jump since June 2022. The Treasuries selloff on Monday came after the Institute for Supply Management’s services gauge hit a four-month high while prices picked up. The news jolted trading when investors were already digesting cautious views from some Fed speakers including Jerome Powell. The net effect is a stronger economy that gives the central bank longer to reduce rates. Fed swaps almost wiped out the odds of a March rate move, and the chances of a May cut have also been reduced. The “one-two punch” prevented market players from achieving further upside, according to Jose Torres at Interactive Brokers. JPMorgan Chase & Co. strategist Marko Kolanovic said that “absent a material shock, we think this year’s easing\\nBloomberg Terminal\\nwill prove more moderate than markets have priced.” Australian and New Zealand yields were moderately higher. The Australian dollar strengthened after the Reserve Bank of Australia said a further increase in interest rates can’t be ruled out as it held the policy rate steady Tuesday as expected. The dollar was steady after it hit its strongest since November in a muted start to trading in currency markets. The yen was little changed at just above 148 per dollar. Annual wage negotiations in Japan have kicked off in earnest, as its central bank looks for evidence of a virtuous wage-price cycle that would allow it to exit from the world’s last negative rate regime. In the US, Fed Bank of Minneapolis President Neel Kashkari said officials have time to gauge incoming data before easing while his Chicago counterpart Austan Goolsbee reiterated he’d like to see more of the favorable inflation data. The world’s major central banks mustn’t drop their guard in the fight against inflation as it’s too soon to say if sharp interest rate increases have contained underlying price pressures, the OECD said. Meantime, the latest Bloomberg Markets Live Pulse survey showed American shoppers won’t be deterred by mounting credit-card bills or the recent ripple of layoffs. More than half of 463 respondents said spending will stay strong or get even stronger in 2024. “The ongoing strength of the US economy relative to most of its G-10 peers is one of the key reasons why we have held a counter consensus bullish view on the USD since September 2023,” said Dominic Bunning at HSBC. Elsewhere, gold inched higher to trade at around $2,027 per ounce. West Texas Intermediate was slightly higher. Bitcoin edged higher at above $42,500. Some of the main moves in markets: This story was produced with the assistance of Bloomberg Automation. Loading...'"
      ]
     },
     "execution_count": 23,
     "metadata": {},
     "output_type": "execute_result"
    }
   ],
   "source": [
    "'''blb_news['text'][0]'''"
   ]
  },
  {
   "cell_type": "markdown",
   "metadata": {},
   "source": [
    "* WSJ"
   ]
  },
  {
   "cell_type": "code",
   "execution_count": 12,
   "metadata": {},
   "outputs": [
    {
     "name": "stdout",
     "output_type": "stream",
     "text": [
      "{\"code\":\"RESP001\",\"instance\":\"/v1\",\"status\":422,\"title\":\"Could not get content (RESP001)\",\"type\":\"https://www.zenrows.com/documentation/api-error-codes#RESP001\"}\n"
     ]
    }
   ],
   "source": [
    "'''# pip install zenrows\n",
    "from zenrows import ZenRowsClient\n",
    "\n",
    "client = ZenRowsClient(\"04b5768a40a0533b80959905b6034b472ad61aa4\")\n",
    "url = \"https://www.wsj.com/finance/investing/wall-street-gets-laser-eyes-in-bid-for-bitcoin-etf-bucks-3b890de3?mod=finance_lead_story\"\n",
    "params = {\"js_render\":\"true\",\"block_resources\":\"xhr,image,eventsource,media\",\"json_response\":\"true\",\"js_instructions\":\"%5B%7B%22click%22%3A%22.selector%22%7D%2C%7B%22wait%22%3A500%7D%2C%7B%22fill%22%3A%5B%22.input%22%2C%22value%22%5D%7D%2C%7B%22wait_for%22%3A%22.slow_selector%22%7D%5D\",\"premium_proxy\":\"true\",\"css_extractor\":\"{\\\"divs\\\":\\\"div > p\\\"}\"}\n",
    "\n",
    "response = client.get(url, params=params)\n",
    "\n",
    "print(response.text)'''"
   ]
  },
  {
   "cell_type": "markdown",
   "metadata": {},
   "source": [
    "* Yahoo Finance News"
   ]
  },
  {
   "cell_type": "code",
   "execution_count": 432,
   "metadata": {},
   "outputs": [],
   "source": [
    "def get_yf_news(url):\n",
    "\n",
    "    driver = webdriver.Chrome(options=chrome_options)\n",
    "    driver.get(url)\n",
    "    driver.implicitly_wait(2)\n",
    "\n",
    "    try:\n",
    "        for web_page in range(2):\n",
    "            interval = 1 \n",
    "            prev_height = driver.execute_script(\"return document.body.scrollHeight\")\n",
    "\n",
    "            while True:\n",
    "                driver.execute_script(\"window.scrollTo(0, document.body.scrollHeight)\")\n",
    "                time.sleep(interval)\n",
    "                curr_height = driver.execute_script(\"return document.body.scrollHeight\")\n",
    "                if curr_height == prev_height:\n",
    "                    break\n",
    "                prev_height = curr_height\n",
    "\n",
    "            try:\n",
    "                driver.execute_script(\"arguments[0].click();\", WebDriverWait(driver, 20).until(EC.element_to_be_clickable((By.CLASS_NAME,\"collapse-button\"))))\n",
    "            except Exception as e:\n",
    "                print(f\"Error: {str(e)}\")\n",
    "\n",
    "        news_url = []\n",
    "        \n",
    "        hrefs = [element.get_attribute(\"href\") for element in driver.find_elements(By.XPATH, \"//*[@href]\")]\n",
    "\n",
    "        for href in hrefs:\n",
    "            if href.endswith('.html'):\n",
    "                news_url.append(href)\n",
    "\n",
    "        news = pd.DataFrame(columns=['url', 'h1', 'text'])\n",
    "\n",
    "        for url in news_url[:1]:\n",
    "            if url.endswith('.html'):\n",
    "                news_url.append(url)\n",
    "\n",
    "            h1 = driver.find_element(By.TAG_NAME, 'h1')\n",
    "            h1 = h1.text \n",
    "\n",
    "            p_tags = driver.find_elements(By.TAG_NAME, 'p')\n",
    "\n",
    "            text_content = \"\"\n",
    "            for p in p_tags:\n",
    "                text_content += p.text + \" \"\n",
    "            text_content = text_content.strip()\n",
    "\n",
    "            news = news._append({'url': url, 'h1': ''.join(h1), 'text': text_content}, ignore_index=True)\n",
    "            return news\n",
    "        \n",
    "    finally:    \n",
    "        driver.quit()"
   ]
  },
  {
   "cell_type": "code",
   "execution_count": 433,
   "metadata": {},
   "outputs": [
    {
     "name": "stdout",
     "output_type": "stream",
     "text": [
      "Error: Message: \n",
      "\n"
     ]
    }
   ],
   "source": [
    "yf_news = get_yf_news(\"https://finance.yahoo.com/news/analysts-made-financial-statement-dws-060237470.html\")"
   ]
  },
  {
   "cell_type": "code",
   "execution_count": 434,
   "metadata": {},
   "outputs": [
    {
     "data": {
      "text/html": [
       "<div>\n",
       "<style scoped>\n",
       "    .dataframe tbody tr th:only-of-type {\n",
       "        vertical-align: middle;\n",
       "    }\n",
       "\n",
       "    .dataframe tbody tr th {\n",
       "        vertical-align: top;\n",
       "    }\n",
       "\n",
       "    .dataframe thead th {\n",
       "        text-align: right;\n",
       "    }\n",
       "</style>\n",
       "<table border=\"1\" class=\"dataframe\">\n",
       "  <thead>\n",
       "    <tr style=\"text-align: right;\">\n",
       "      <th></th>\n",
       "      <th>url</th>\n",
       "      <th>h1</th>\n",
       "      <th>text</th>\n",
       "    </tr>\n",
       "  </thead>\n",
       "  <tbody>\n",
       "    <tr>\n",
       "      <th>0</th>\n",
       "      <td>https://finance.yahoo.com/news/analysts-made-f...</td>\n",
       "      <td>Analysts Have Made A Financial Statement On DW...</td>\n",
       "      <td>Last week, you might have seen that DWS Group ...</td>\n",
       "    </tr>\n",
       "  </tbody>\n",
       "</table>\n",
       "</div>"
      ],
      "text/plain": [
       "                                                 url  \\\n",
       "0  https://finance.yahoo.com/news/analysts-made-f...   \n",
       "\n",
       "                                                  h1  \\\n",
       "0  Analysts Have Made A Financial Statement On DW...   \n",
       "\n",
       "                                                text  \n",
       "0  Last week, you might have seen that DWS Group ...  "
      ]
     },
     "execution_count": 434,
     "metadata": {},
     "output_type": "execute_result"
    }
   ],
   "source": [
    "yf_news"
   ]
  },
  {
   "cell_type": "code",
   "execution_count": 419,
   "metadata": {},
   "outputs": [],
   "source": [
    "def split_text(text):\n",
    "    \n",
    "    max_length = 750\n",
    "    split_texts = []\n",
    "    start = 0\n",
    "    end = max_length\n",
    "\n",
    "    while end < len(text):\n",
    "        while text[end] not in ['.','!','?', ':', ';', '()']:\n",
    "            end -= 1\n",
    "        split_texts.append(text[start:end+1])\n",
    "        start = end + 1\n",
    "        end = start + max_length\n",
    "\n",
    "    split_texts.append(text[start:])\n",
    "    text_segments = pd.DataFrame(\n",
    "        {\n",
    "            'article': [text] * len(split_texts),\n",
    "            'segment': split_texts\n",
    "        }\n",
    "    )\n",
    "\n",
    "    return text_segments"
   ]
  },
  {
   "cell_type": "code",
   "execution_count": 420,
   "metadata": {},
   "outputs": [],
   "source": [
    "def combine_texts(news):\n",
    "\n",
    "    combined_data = {\n",
    "        'h1': [], \n",
    "        'article': [], \n",
    "        'segment': []\n",
    "    }\n",
    "\n",
    "    for article, h1 in zip(news['text'], news['h1']):\n",
    "        text_result = split_text(article)\n",
    "        combined_data['h1'].extend([h1] * len(text_result['segment']))\n",
    "        combined_data['article'].extend([text_result['article']] * len(text_result['segment']))\n",
    "        combined_data['segment'].extend(text_result['segment'])\n",
    "\n",
    "    combined_df = pd.DataFrame(combined_data)\n",
    "    combined_df['article'] = combined_df['article'].iloc[1]\n",
    "    return combined_df"
   ]
  },
  {
   "cell_type": "code",
   "execution_count": 421,
   "metadata": {},
   "outputs": [
    {
     "data": {
      "text/html": [
       "<div>\n",
       "<style scoped>\n",
       "    .dataframe tbody tr th:only-of-type {\n",
       "        vertical-align: middle;\n",
       "    }\n",
       "\n",
       "    .dataframe tbody tr th {\n",
       "        vertical-align: top;\n",
       "    }\n",
       "\n",
       "    .dataframe thead th {\n",
       "        text-align: right;\n",
       "    }\n",
       "</style>\n",
       "<table border=\"1\" class=\"dataframe\">\n",
       "  <thead>\n",
       "    <tr style=\"text-align: right;\">\n",
       "      <th></th>\n",
       "      <th>h1</th>\n",
       "      <th>article</th>\n",
       "      <th>segment</th>\n",
       "    </tr>\n",
       "  </thead>\n",
       "  <tbody>\n",
       "    <tr>\n",
       "      <th>0</th>\n",
       "      <td>Analysts Have Made A Financial Statement On DW...</td>\n",
       "      <td>Last week, you might have seen that DWS Group ...</td>\n",
       "      <td>Last week, you might have seen that DWS Group ...</td>\n",
       "    </tr>\n",
       "    <tr>\n",
       "      <th>1</th>\n",
       "      <td>Analysts Have Made A Financial Statement On DW...</td>\n",
       "      <td>Last week, you might have seen that DWS Group ...</td>\n",
       "      <td>Check out our latest analysis for DWS Group G...</td>\n",
       "    </tr>\n",
       "    <tr>\n",
       "      <th>2</th>\n",
       "      <td>Analysts Have Made A Financial Statement On DW...</td>\n",
       "      <td>Last week, you might have seen that DWS Group ...</td>\n",
       "      <td>84 price target, showing that the analysts don...</td>\n",
       "    </tr>\n",
       "    <tr>\n",
       "      <th>3</th>\n",
       "      <td>Analysts Have Made A Financial Statement On DW...</td>\n",
       "      <td>Last week, you might have seen that DWS Group ...</td>\n",
       "      <td>It's pretty clear that there is an expectatio...</td>\n",
       "    </tr>\n",
       "    <tr>\n",
       "      <th>4</th>\n",
       "      <td>Analysts Have Made A Financial Statement On DW...</td>\n",
       "      <td>Last week, you might have seen that DWS Group ...</td>\n",
       "      <td>The most important thing to take away is that...</td>\n",
       "    </tr>\n",
       "    <tr>\n",
       "      <th>5</th>\n",
       "      <td>Analysts Have Made A Financial Statement On DW...</td>\n",
       "      <td>Last week, you might have seen that DWS Group ...</td>\n",
       "      <td>We have estimates - from multiple DWS Group G...</td>\n",
       "    </tr>\n",
       "    <tr>\n",
       "      <th>6</th>\n",
       "      <td>Analysts Have Made A Financial Statement On DW...</td>\n",
       "      <td>Last week, you might have seen that DWS Group ...</td>\n",
       "      <td>It does not constitute a recommendation to bu...</td>\n",
       "    </tr>\n",
       "  </tbody>\n",
       "</table>\n",
       "</div>"
      ],
      "text/plain": [
       "                                                  h1  \\\n",
       "0  Analysts Have Made A Financial Statement On DW...   \n",
       "1  Analysts Have Made A Financial Statement On DW...   \n",
       "2  Analysts Have Made A Financial Statement On DW...   \n",
       "3  Analysts Have Made A Financial Statement On DW...   \n",
       "4  Analysts Have Made A Financial Statement On DW...   \n",
       "5  Analysts Have Made A Financial Statement On DW...   \n",
       "6  Analysts Have Made A Financial Statement On DW...   \n",
       "\n",
       "                                             article  \\\n",
       "0  Last week, you might have seen that DWS Group ...   \n",
       "1  Last week, you might have seen that DWS Group ...   \n",
       "2  Last week, you might have seen that DWS Group ...   \n",
       "3  Last week, you might have seen that DWS Group ...   \n",
       "4  Last week, you might have seen that DWS Group ...   \n",
       "5  Last week, you might have seen that DWS Group ...   \n",
       "6  Last week, you might have seen that DWS Group ...   \n",
       "\n",
       "                                             segment  \n",
       "0  Last week, you might have seen that DWS Group ...  \n",
       "1   Check out our latest analysis for DWS Group G...  \n",
       "2  84 price target, showing that the analysts don...  \n",
       "3   It's pretty clear that there is an expectatio...  \n",
       "4   The most important thing to take away is that...  \n",
       "5   We have estimates - from multiple DWS Group G...  \n",
       "6   It does not constitute a recommendation to bu...  "
      ]
     },
     "execution_count": 421,
     "metadata": {},
     "output_type": "execute_result"
    }
   ],
   "source": [
    "combined_text = combine_texts(yf_news)\n",
    "combined_text"
   ]
  },
  {
   "cell_type": "code",
   "execution_count": null,
   "metadata": {},
   "outputs": [],
   "source": [
    "def prompt_for_summary(text):\n",
    "    task = '''\n",
    "    Summarise the given text in no more than 200 words. \n",
    "    The summary should be written in plain English and should filter out jargons for them to be displayed at the end in a numbered bulletpoint format.\n",
    "    '''\n",
    "    return task + text\n"
   ]
  }
 ],
 "metadata": {
  "kernelspec": {
   "display_name": "practice-venv",
   "language": "python",
   "name": "python3"
  },
  "language_info": {
   "codemirror_mode": {
    "name": "ipython",
    "version": 3
   },
   "file_extension": ".py",
   "mimetype": "text/x-python",
   "name": "python",
   "nbconvert_exporter": "python",
   "pygments_lexer": "ipython3",
   "version": "3.9.0"
  }
 },
 "nbformat": 4,
 "nbformat_minor": 2
}
