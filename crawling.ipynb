{
 "cells": [
  {
   "cell_type": "code",
   "execution_count": 50,
   "metadata": {},
   "outputs": [],
   "source": [
    "from selenium.webdriver.chrome.service import Service\n",
    "from selenium.webdriver.common.keys import Keys\n",
    "from selenium.webdriver.chrome.options import Options\n",
    "from webdriver_manager.chrome import ChromeDriverManager\n",
    "import pandas as pd\n",
    "import numpy as np\n",
    "import time\n",
    "from selenium.webdriver.common.by import By\n",
    "from selenium.webdriver.support.ui import WebDriverWait\n",
    "from selenium.webdriver.support import expected_conditions as EC\n",
    "import re\n",
    "import selenium\n",
    "from selenium import webdriver\n",
    "import random\n",
    "from selenium.webdriver.common.action_chains import ActionChains\n",
    "from selenium.common.exceptions import WebDriverException\n",
    "from selenium.common.exceptions import TimeoutException\n",
    "from selenium.common.exceptions import StaleElementReferenceException\n",
    "import requests"
   ]
  },
  {
   "cell_type": "code",
   "execution_count": 20,
   "metadata": {},
   "outputs": [],
   "source": [
    "free_proxy = [\n",
    "    '68.183.48.146:10006',\n",
    "    '202.131.65.110:80',\n",
    "    '64.225.8.132:10000',\n",
    "    '41.77.188.131:80',\n",
    "    '67.43.228.252:1499',\n",
    "    '50.231.172.74:80',\n",
    "    '50.174.7.158:80',\n",
    "    '50.122.86.118:80',\n",
    "    '50.222.245.42:80',\n",
    "    '50.207.199.86:80',\n",
    "    '50.175.212.66:80',\n",
    "    '50.222.245.40:80',\n",
    "    '133.18.234.13:80'\n",
    "    ] "
   ]
  },
  {
   "cell_type": "code",
   "execution_count": 21,
   "metadata": {},
   "outputs": [],
   "source": [
    "def get_proxy(proxies):\n",
    "    try:\n",
    "        proxy = random.choice(proxies)\n",
    "        print(proxy)\n",
    "        return proxy\n",
    "    except Exception as e:\n",
    "        print(f\"Proxy {proxy} failed due to error {e}\")\n",
    "    print(\"No working proxy has been found\")\n",
    "    return None"
   ]
  },
  {
   "cell_type": "code",
   "execution_count": 36,
   "metadata": {},
   "outputs": [],
   "source": [
    "chrome_options = Options()\n",
    "# Grabbing free proxy\n",
    "#PROXY = get_proxy(free_proxy)\n",
    "chrome_options.add_argument(\"--incognito\")\n",
    "#chrome_options.add_argument(\"--proxy-server=%s\" % PROXY)\n",
    "chrome_options.add_experimental_option(\"detach\", True)\n",
    "chrome_options.headless = True # For debugging. SHould be set to True when running in an actual test case\n",
    "chrome_options.add_experimental_option(\"excludeSwitches\",[\"enable-logging\"])\n",
    "\n",
    "driver = webdriver.Chrome(options=chrome_options)\n",
    "# Printing the proxy of the driver"
   ]
  },
  {
   "cell_type": "code",
   "execution_count": 9,
   "metadata": {},
   "outputs": [
    {
     "name": "stdout",
     "output_type": "stream",
     "text": [
      "4.17.2\n"
     ]
    }
   ],
   "source": [
    "print(selenium.__version__)"
   ]
  },
  {
   "cell_type": "markdown",
   "metadata": {},
   "source": [
    "* Bloomberg Market News URL format: https://www.bloomberg.com/news/articles/2024-02-03/creditor-battles-are-hobbling-risky-debt-credit-weekly?srnd=markets-vp\n",
    "\n",
    "* Wall Street Journal Market News URL format: https://www.wsj.com/finance/investing/wall-street-gets-laser-eyes-in-bid-for-bitcoin-etf-bucks-3b890de3?mod=finance_lead_story\n",
    "\n",
    "* Yahoo Finance News URL format: https://finance.yahoo.com/news/analysts-made-financial-statement-dws-060237470.html\n"
   ]
  },
  {
   "cell_type": "code",
   "execution_count": 39,
   "metadata": {},
   "outputs": [],
   "source": [
    "from fake_useragent import UserAgent\n",
    "from bs4 import BeautifulSoup"
   ]
  },
  {
   "cell_type": "code",
   "execution_count": 46,
   "metadata": {},
   "outputs": [
    {
     "name": "stdout",
     "output_type": "stream",
     "text": [
      "Mozilla/5.0 (Windows NT 10.0; Win64; x64) AppleWebKit/537.36 (KHTML, like Gecko) Chrome/117.0.0.0 Safari/537.36 Edg/117.0.2045.36\n"
     ]
    }
   ],
   "source": [
    "ua = UserAgent()\n",
    "print(ua.random)"
   ]
  },
  {
   "cell_type": "code",
   "execution_count": 61,
   "metadata": {},
   "outputs": [],
   "source": [
    "# The below url_parser function is used to parse the url and get the news from the respective source\n",
    "\n",
    "def url_parser(url):\n",
    "    url = url.split('/')\n",
    "    keyword = url[2].split('.')\n",
    "    source = keyword[1]\n",
    "\n",
    "    if source == 'bloomberg':\n",
    "        url = get_blb_news(url)\n",
    "        return url\n",
    "    elif source == 'wsj':\n",
    "        url = get_wsj_news(url)\n",
    "        return url\n",
    "    elif source == 'yahoo':\n",
    "        url = get_yf_news(url)\n",
    "        return url\n",
    "    else:\n",
    "        return \"Source not supported\""
   ]
  },
  {
   "cell_type": "markdown",
   "metadata": {},
   "source": [
    "* Bloomberg"
   ]
  },
  {
   "cell_type": "code",
   "execution_count": 51,
   "metadata": {},
   "outputs": [],
   "source": [
    "# Bloomberg news -> Cookies acceptance is required to access the news\n",
    "\n",
    "def accept_cookies():\n",
    "    url = \"https://sourcepointcmp.bloomberg.com/wrapper/v2/choice/consent-all?hasCsp=true&accountId=1425&env=prod&includeCustomVendorsRes=true&metadata=%7B%22gdpr%22%3A%7B%22applies%22%3Atrue%7D%7D&propertyId=31489&withSiteActions=true&ch=44031679743938401199d44444831847b85&scriptVersion=4.15.1&scriptType=unified\"\n",
    "\n",
    "    payload = {}\n",
    "    headers = {\n",
    "    'authority': 'sourcepointcmp.bloomberg.com',\n",
    "    'accept': '*/*',\n",
    "    'accept-language': 'en-GB,en;q=0.9',\n",
    "    'content-type': 'application/json',\n",
    "    'origin': 'https://www.bloomberg.com',\n",
    "    'priority': 'u=1, i',\n",
    "    'referer': 'https://www.bloomberg.com/news/articles/2024-02-03/creditor-battles-are-hobbling-risky-debt-credit-weekly?srnd=markets-vp',\n",
    "    'sec-ch-ua': '\"Chromium\";v=\"121\", \"Not A(Brand\";v=\"99\"',\n",
    "    'sec-ch-ua-mobile': '?0',\n",
    "    'sec-ch-ua-platform': '\"Windows\"',\n",
    "    'sec-fetch-dest': 'empty',\n",
    "    'sec-fetch-mode': 'cors',\n",
    "    'sec-fetch-site': 'same-site',\n",
    "    'user-agent': 'Mozilla/5.0 (Windows NT 10.0; Win64; x64) AppleWebKit/537.36 (KHTML, like Gecko) Chrome/121.0.0.0 Safari/537.36'\n",
    "    }\n",
    "\n",
    "    response = requests.request(\"POST\", url, headers=headers, data=payload)\n",
    "\n",
    "    if response.status_code == 200:\n",
    "        print(\"Cookies accepted successfully.\")\n",
    "    else:\n",
    "        print(\"Failed to accept cookies.\")\n",
    "\n",
    "chrome_options = Options()\n",
    "chrome_options.add_argument(\"--incognito\")\n",
    "chrome_options.add_experimental_option(\"detach\", True)\n",
    "chrome_options.headless = True # For debugging. SHould be set to True when running in an actual test case\n",
    "chrome_options.add_experimental_option(\"excludeSwitches\",[\"enable-logging\"])\n",
    "\n",
    "driver = webdriver.Chrome(options=chrome_options)\n",
    "\n",
    "\n",
    "def get_blb_news(url):\n",
    "\n",
    "    driver = webdriver.Chrome(options=chrome_options)\n",
    "    driver.get(url)\n",
    "    driver.implicitly_wait(2)\n",
    "\n",
    "    try:\n",
    "        for web_page in range(2):\n",
    "            prev_height = driver.execute_script(\"return document.body.scrollHeight\")\n",
    "\n",
    "            while True:\n",
    "                driver.execute_script(\"window.scrollTo(0, document.body.scrollHeight)\")\n",
    "                time.sleep(5)\n",
    "                curr_height = driver.execute_script(\"return document.body.scrollHeight\")\n",
    "                if curr_height == prev_height:\n",
    "                    break\n",
    "                prev_height = curr_height\n",
    "\n",
    "            try:\n",
    "                accept_cookies()\n",
    "                #button = WebDriverWait(driver, 10).until(\n",
    "                    #EC.element_to_be_clickable((By.XPATH,\"/html/body/div/div[2]/div[5]/button[1]\"))\n",
    "                    #)\n",
    "                # button = driver.find_element(By.CLASS_NAME, 'link.caas-button.collapse-button')\n",
    "                # driver.implicitly_wait(5)\n",
    "                # ActionChains(driver).move_to_element(button).click(button).perform()\n",
    "                #button.click()\n",
    "                \n",
    "            except Exception as e:\n",
    "                print(f\"Error: {str(e)}\")\n",
    "\n",
    "        news_url = []\n",
    "        \n",
    "        hrefs = [element.get_attribute(\"href\") for element in driver.find_elements(By.XPATH, \"//*[@href]\")]\n",
    "\n",
    "        for href in hrefs:\n",
    "            if href.endswith('.html'):\n",
    "                news_url.append(href)\n",
    "\n",
    "        news = pd.DataFrame(columns=['url', 'h1', 'text'])\n",
    "\n",
    "        for url in news_url[:1]:\n",
    "            if url.endswith('.html'):\n",
    "                news_url.append(url)\n",
    "\n",
    "            h1 = driver.find_element(By.TAG_NAME, 'h1')\n",
    "            h1 = h1.text \n",
    "\n",
    "            p_tags = driver.find_elements(By.TAG_NAME, 'p')\n",
    "\n",
    "            text_content = \"\"\n",
    "            for p in p_tags:\n",
    "                text_content += p.text + \" \"\n",
    "            text_content = text_content.strip()\n",
    "\n",
    "            news = news._append({'url': url, 'h1': ''.join(h1), 'text': text_content}, ignore_index=True)\n",
    "            return news\n",
    "        \n",
    "    finally:    \n",
    "        driver.quit()"
   ]
  },
  {
   "cell_type": "code",
   "execution_count": null,
   "metadata": {},
   "outputs": [],
   "source": [
    "def get_blb_news(url):\n",
    "\n",
    "    driver = webdriver.Chrome(options=chrome_options)\n",
    "    driver.get(url)\n",
    "    driver.implicitly_wait(2)\n",
    "\n",
    "    try:\n",
    "        for web_page in range(2):\n",
    "            interval = 1 \n",
    "            prev_height = driver.execute_script(\"return document.body.scrollHeight\")\n",
    "\n",
    "            while True:\n",
    "                driver.execute_script(\"window.scrollTo(0, document.body.scrollHeight)\")\n",
    "                time.sleep(interval)\n",
    "                curr_height = driver.execute_script(\"return document.body.scrollHeight\")\n",
    "                if curr_height == prev_height:\n",
    "                    break\n",
    "                prev_height = curr_height\n",
    "\n",
    "            try:\n",
    "                driver.execute_script(\"arguments[0].click();\", WebDriverWait(driver, 10).until(EC.element_to_be_clickable((By.CLASS_NAME,\"sp_choice_type_11\"))))\n",
    "                #button = driver.find_element(By.CLASS_NAME, 'link.caas-button.collapse-button')\n",
    "                # driver.implicitly_wait(5)\n",
    "                # ActionChains(driver).move_to_element(button).click(button).perform()\n",
    "                # button_click()\n",
    "                \n",
    "            except Exception as e:\n",
    "                print(f\"Error: {str(e)}\")\n",
    "\n",
    "        news_url = []\n",
    "        \n",
    "        hrefs = [element.get_attribute(\"href\") for element in driver.find_elements(By.XPATH, \"//*[@href]\")]\n",
    "\n",
    "        for href in hrefs:\n",
    "            news_url.append(href)\n",
    "\n",
    "        news = pd.DataFrame(columns=['url', 'h1', 'text'])\n",
    "\n",
    "        for url in news_url[:1]:\n",
    "            if url.endswith('.html'):\n",
    "                news_url.append(url)\n",
    "\n",
    "            h1 = driver.find_element(By.TAG_NAME, 'h1')\n",
    "            h1 = h1.text \n",
    "\n",
    "            p_tags = driver.find_elements(By.TAG_NAME, 'p')\n",
    "\n",
    "            text_content = \"\"\n",
    "            for p in p_tags:\n",
    "                text_content += p.text + \" \"\n",
    "            text_content = text_content.strip()\n",
    "\n",
    "            news = news._append({'url': url, 'h1': ''.join(h1), 'text': text_content}, ignore_index=True)\n",
    "            return news\n",
    "        \n",
    "    finally:    \n",
    "        driver.quit()"
   ]
  },
  {
   "cell_type": "code",
   "execution_count": null,
   "metadata": {},
   "outputs": [],
   "source": [
    "//*[@id=\"notice\"]/div[5]/button[1]\n",
    "\n",
    "<button title=\"Yes, I Accept\" aria-label=\"Yes, I Accept\" class=\"message-component message-button no-children focusable buttons-row sp_choice_type_11\" style=\"opacity: 1; padding: 12px 30px; margin: 10px; border-width: 1px; border-color: rgb(0, 0, 0); border-radius: 0px; border-style: solid; font-size: 16px; font-weight: 700; color: rgb(255, 255, 255); font-family: arial, helvetica, sans-serif; width: auto; background: rgb(0, 0, 0);\">Yes, I Accept</button>\n",
    "\n",
    "/html/body/div/div[2]/div[5]/button[1]"
   ]
  },
  {
   "cell_type": "code",
   "execution_count": 52,
   "metadata": {},
   "outputs": [
    {
     "name": "stdout",
     "output_type": "stream",
     "text": [
      "Failed to accept cookies.\n",
      "Failed to accept cookies.\n"
     ]
    },
    {
     "name": "stderr",
     "output_type": "stream",
     "text": [
      "Exception ignored in: <function Service.__del__ at 0x000001F3BB3C6310>\n",
      "Traceback (most recent call last):\n",
      "  File \"c:\\Users\\USER\\OneDrive\\Documents\\YBIGTA\\Project\\practice-venv\\lib\\site-packages\\selenium\\webdriver\\common\\service.py\", line 189, in __del__\n",
      "    self.stop()\n",
      "  File \"c:\\Users\\USER\\OneDrive\\Documents\\YBIGTA\\Project\\practice-venv\\lib\\site-packages\\selenium\\webdriver\\common\\service.py\", line 146, in stop\n",
      "    self.send_remote_shutdown_command()\n",
      "  File \"c:\\Users\\USER\\OneDrive\\Documents\\YBIGTA\\Project\\practice-venv\\lib\\site-packages\\selenium\\webdriver\\common\\service.py\", line 126, in send_remote_shutdown_command\n",
      "    request.urlopen(f\"{self.service_url}/shutdown\")\n",
      "  File \"C:\\Users\\USER\\AppData\\Local\\Programs\\Python\\Python39\\lib\\urllib\\request.py\", line 214, in urlopen\n",
      "    return opener.open(url, data, timeout)\n",
      "  File \"C:\\Users\\USER\\AppData\\Local\\Programs\\Python\\Python39\\lib\\urllib\\request.py\", line 517, in open\n",
      "    response = self._open(req, data)\n",
      "  File \"C:\\Users\\USER\\AppData\\Local\\Programs\\Python\\Python39\\lib\\urllib\\request.py\", line 534, in _open\n",
      "    result = self._call_chain(self.handle_open, protocol, protocol +\n",
      "  File \"C:\\Users\\USER\\AppData\\Local\\Programs\\Python\\Python39\\lib\\urllib\\request.py\", line 494, in _call_chain\n",
      "    result = func(*args)\n",
      "  File \"C:\\Users\\USER\\AppData\\Local\\Programs\\Python\\Python39\\lib\\urllib\\request.py\", line 1371, in http_open\n",
      "    return self.do_open(http.client.HTTPConnection, req)\n",
      "  File \"C:\\Users\\USER\\AppData\\Local\\Programs\\Python\\Python39\\lib\\urllib\\request.py\", line 1342, in do_open\n",
      "    h.request(req.get_method(), req.selector, req.data, headers,\n",
      "  File \"C:\\Users\\USER\\AppData\\Local\\Programs\\Python\\Python39\\lib\\http\\client.py\", line 1255, in request\n",
      "    self._send_request(method, url, body, headers, encode_chunked)\n",
      "  File \"C:\\Users\\USER\\AppData\\Local\\Programs\\Python\\Python39\\lib\\http\\client.py\", line 1301, in _send_request\n",
      "    self.endheaders(body, encode_chunked=encode_chunked)\n",
      "  File \"C:\\Users\\USER\\AppData\\Local\\Programs\\Python\\Python39\\lib\\http\\client.py\", line 1250, in endheaders\n",
      "    self._send_output(message_body, encode_chunked=encode_chunked)\n",
      "  File \"C:\\Users\\USER\\AppData\\Local\\Programs\\Python\\Python39\\lib\\http\\client.py\", line 1010, in _send_output\n",
      "    self.send(msg)\n",
      "  File \"C:\\Users\\USER\\AppData\\Local\\Programs\\Python\\Python39\\lib\\http\\client.py\", line 950, in send\n",
      "    self.connect()\n",
      "  File \"C:\\Users\\USER\\AppData\\Local\\Programs\\Python\\Python39\\lib\\http\\client.py\", line 921, in connect\n",
      "    self.sock = self._create_connection(\n",
      "  File \"C:\\Users\\USER\\AppData\\Local\\Programs\\Python\\Python39\\lib\\socket.py\", line 831, in create_connection\n",
      "    sock.connect(sa)\n",
      "KeyboardInterrupt: \n"
     ]
    }
   ],
   "source": [
    "blb_news = get_blb_news('https://www.bloomberg.com/news/articles/2024-02-06/goldman-morgan-stanley-bet-on-india-stocks-as-wall-street-shifts-from-china?srnd=premium-asia')"
   ]
  },
  {
   "cell_type": "code",
   "execution_count": 46,
   "metadata": {},
   "outputs": [],
   "source": [
    "blb_news"
   ]
  },
  {
   "cell_type": "code",
   "execution_count": 12,
   "metadata": {},
   "outputs": [],
   "source": [
    "#def get_proxy(proxies, c_options):\n",
    "    #while True:  \n",
    "\n",
    "        #proxy = random.choice(proxies)\n",
    "        #print(proxy)\n",
    "        #chrome_options.add_argument(\"--incognito\")\n",
    "        #chrome_options.add_argument(\"--proxy-server=%s\" % proxy)\n",
    "        #chrome_options.add_experimental_option(\"detach\", True)\n",
    "        #chrome_options.headless = False  # For debugging. Should be set to True when running in an actual test case\n",
    "        #chrome_options.add_experimental_option(\"excludeSwitches\", [\"enable-logging\"])\n",
    "        #driver = webdriver.Chrome(options=c_options)\n",
    "\n",
    "        #try:\n",
    "            #news_data = get_blb_news('https://www.bloomberg.com/news/articles/2024-02-06/goldman-morgan-stanley-bet-on-india-stocks-as-wall-street-shifts-from-china?srnd=premium-asia')\n",
    "            #if news_data is not None:\n",
    "                #return news_data, proxy\n",
    "            #else:\n",
    "                #print('Failed to retrieve news data')\n",
    "\n",
    "        #except (TimeoutException, WebDriverException) as e:  # This error message is not getting caught for some reason...\n",
    "            #print(f\"ERROR MESSAGE: {e} and the proxy ip port {proxy} has been blocked\")\n",
    "\n",
    "        #finally:\n",
    "            #driver.quit()"
   ]
  },
  {
   "cell_type": "code",
   "execution_count": 13,
   "metadata": {},
   "outputs": [
    {
     "name": "stdout",
     "output_type": "stream",
     "text": [
      "50.231.172.74:80\n"
     ]
    }
   ],
   "source": [
    "#test = get_proxy(free_proxy, chrome_options)"
   ]
  },
  {
   "cell_type": "code",
   "execution_count": 107,
   "metadata": {},
   "outputs": [
    {
     "data": {
      "text/plain": [
       "'Investors are paying close attention to the contrasting trajectories of two of Asia’s greatest powers.  A momentous shift is under way in global markets as investors pull billions of dollars from China’s sputtering economy, two decades after betting on the country as the world’s biggest growth story. Much of that cash is now heading for India, with Wall Street giants like Goldman Sachs Group Inc. and Morgan Stanley endorsing the South Asian nation as the prime investment destination for the next decade.'"
      ]
     },
     "execution_count": 107,
     "metadata": {},
     "output_type": "execute_result"
    }
   ],
   "source": [
    "blb_news['text'][0]"
   ]
  },
  {
   "cell_type": "code",
   "execution_count": 23,
   "metadata": {},
   "outputs": [
    {
     "data": {
      "text/plain": [
       "'Listen 6:13 Chinese shares rallied after authorities intensified rescue efforts, defying broader weakness in Asia as hopes ebbed for a swift Federal Reserve pivot toward policy easing. The Hang Seng Index rose 2% while the mainland benchmark of CSI 300 was up 1.8%. The gains came after Beijing took more steps to stem a stock rout, such as widening trading curbs on investors including quantitative funds. A pledge by the nation’s sovereign wealth fund to further increase holdings of exchange-traded funds also lifted investor mood. In contrast, equities in Japan, Australia and South Korea fell, while US equity futures were steady after the S&P 500 dropped 0.3% and the Nasdaq 100 shed 0.2% Monday. “Right now the market is looking for clearer signals on the economic recovery,” Marcella Chow, global market strategist for JPMorgan Asset Management, said on Bloomberg Television regarding China. “Expectations remain quite low — markets and investors are still grappling with the weak economic recovery.” The 10-year Treasury yield fell three basis points in Asian trading. That followed another bout of heavy selling Monday, spurred by strong US economic data, that pushed the rate up by 14 basis points, marking the biggest two-day jump since June 2022. The Treasuries selloff on Monday came after the Institute for Supply Management’s services gauge hit a four-month high while prices picked up. The news jolted trading when investors were already digesting cautious views from some Fed speakers including Jerome Powell. The net effect is a stronger economy that gives the central bank longer to reduce rates. Fed swaps almost wiped out the odds of a March rate move, and the chances of a May cut have also been reduced. The “one-two punch” prevented market players from achieving further upside, according to Jose Torres at Interactive Brokers. JPMorgan Chase & Co. strategist Marko Kolanovic said that “absent a material shock, we think this year’s easing\\nBloomberg Terminal\\nwill prove more moderate than markets have priced.” Australian and New Zealand yields were moderately higher. The Australian dollar strengthened after the Reserve Bank of Australia said a further increase in interest rates can’t be ruled out as it held the policy rate steady Tuesday as expected. The dollar was steady after it hit its strongest since November in a muted start to trading in currency markets. The yen was little changed at just above 148 per dollar. Annual wage negotiations in Japan have kicked off in earnest, as its central bank looks for evidence of a virtuous wage-price cycle that would allow it to exit from the world’s last negative rate regime. In the US, Fed Bank of Minneapolis President Neel Kashkari said officials have time to gauge incoming data before easing while his Chicago counterpart Austan Goolsbee reiterated he’d like to see more of the favorable inflation data. The world’s major central banks mustn’t drop their guard in the fight against inflation as it’s too soon to say if sharp interest rate increases have contained underlying price pressures, the OECD said. Meantime, the latest Bloomberg Markets Live Pulse survey showed American shoppers won’t be deterred by mounting credit-card bills or the recent ripple of layoffs. More than half of 463 respondents said spending will stay strong or get even stronger in 2024. “The ongoing strength of the US economy relative to most of its G-10 peers is one of the key reasons why we have held a counter consensus bullish view on the USD since September 2023,” said Dominic Bunning at HSBC. Elsewhere, gold inched higher to trade at around $2,027 per ounce. West Texas Intermediate was slightly higher. Bitcoin edged higher at above $42,500. Some of the main moves in markets: This story was produced with the assistance of Bloomberg Automation. Loading...'"
      ]
     },
     "execution_count": 23,
     "metadata": {},
     "output_type": "execute_result"
    }
   ],
   "source": [
    "blb_news['text'][0]"
   ]
  },
  {
   "cell_type": "markdown",
   "metadata": {},
   "source": [
    "* WSJ"
   ]
  },
  {
   "cell_type": "code",
   "execution_count": 343,
   "metadata": {},
   "outputs": [],
   "source": [
    "# Wall Street Journal -> bypassing the bot detection \n",
    "\n",
    "#import undetected_chromedriver as uc\n",
    "\n",
    "def get_wsj_news(url):\n",
    "    #ua = UserAgent()\n",
    "    #ua_random = ua.random\n",
    "\n",
    "    #headers = {\n",
    "        #'user-agent': ua_random,\n",
    "        #'accept-language': 'en-US'\n",
    "    #}\n",
    "\n",
    "    #is_captcha = True\n",
    "    #while is_captcha:\n",
    "        #try:\n",
    "            #driver = uc.Chrome\n",
    "            #driver.get(url)\n",
    "            #time.sleep(3)\n",
    "            #soup = BeautifulSoup(driver.page_source, 'html.parser')\n",
    "            #if 'captcha' in str(soup):\n",
    "                #print('Bot detected')\n",
    "                #time.sleep(3)  \n",
    "            #else:\n",
    "                #print('Bot bypassed')\n",
    "                #is_captcha = False\n",
    "                #return soup\n",
    "        #except Exception as e:\n",
    "            #print(f'Retrying due to an exception: {str(e)}')"
   ]
  },
  {
   "cell_type": "markdown",
   "metadata": {},
   "source": [
    "* Yahoo Finance News"
   ]
  },
  {
   "cell_type": "code",
   "execution_count": 432,
   "metadata": {},
   "outputs": [],
   "source": [
    "def get_yf_news(url):\n",
    "\n",
    "    driver = webdriver.Chrome(options=chrome_options)\n",
    "    driver.get(url)\n",
    "    driver.implicitly_wait(2)\n",
    "\n",
    "    try:\n",
    "        for web_page in range(2):\n",
    "            interval = 1 \n",
    "            prev_height = driver.execute_script(\"return document.body.scrollHeight\")\n",
    "\n",
    "            while True:\n",
    "                driver.execute_script(\"window.scrollTo(0, document.body.scrollHeight)\")\n",
    "                time.sleep(interval)\n",
    "                curr_height = driver.execute_script(\"return document.body.scrollHeight\")\n",
    "                if curr_height == prev_height:\n",
    "                    break\n",
    "                prev_height = curr_height\n",
    "\n",
    "            try:\n",
    "                driver.execute_script(\"arguments[0].click();\", WebDriverWait(driver, 20).until(EC.element_to_be_clickable((By.CLASS_NAME,\"collapse-button\"))))\n",
    "                #button = driver.find_element(By.CLASS_NAME, 'link.caas-button.collapse-button')\n",
    "                # driver.implicitly_wait(5)\n",
    "                # ActionChains(driver).move_to_element(button).click(button).perform()\n",
    "                # button_click()\n",
    "                \n",
    "            except Exception as e:\n",
    "                print(f\"Error: {str(e)}\")\n",
    "\n",
    "        news_url = []\n",
    "        \n",
    "        hrefs = [element.get_attribute(\"href\") for element in driver.find_elements(By.XPATH, \"//*[@href]\")]\n",
    "\n",
    "        for href in hrefs:\n",
    "            if href.endswith('.html'):\n",
    "                news_url.append(href)\n",
    "\n",
    "        news = pd.DataFrame(columns=['url', 'h1', 'text'])\n",
    "\n",
    "        for url in news_url[:1]:\n",
    "            if url.endswith('.html'):\n",
    "                news_url.append(url)\n",
    "\n",
    "            h1 = driver.find_element(By.TAG_NAME, 'h1')\n",
    "            h1 = h1.text \n",
    "\n",
    "            p_tags = driver.find_elements(By.TAG_NAME, 'p')\n",
    "\n",
    "            text_content = \"\"\n",
    "            for p in p_tags:\n",
    "                text_content += p.text + \" \"\n",
    "            text_content = text_content.strip()\n",
    "\n",
    "            news = news._append({'url': url, 'h1': ''.join(h1), 'text': text_content}, ignore_index=True)\n",
    "            return news\n",
    "        \n",
    "    finally:    \n",
    "        driver.quit()"
   ]
  },
  {
   "cell_type": "code",
   "execution_count": 433,
   "metadata": {},
   "outputs": [
    {
     "name": "stdout",
     "output_type": "stream",
     "text": [
      "Error: Message: \n",
      "\n"
     ]
    }
   ],
   "source": [
    "yf_news = get_yf_news(\"https://finance.yahoo.com/news/analysts-made-financial-statement-dws-060237470.html\")"
   ]
  },
  {
   "cell_type": "code",
   "execution_count": 434,
   "metadata": {},
   "outputs": [
    {
     "data": {
      "text/html": [
       "<div>\n",
       "<style scoped>\n",
       "    .dataframe tbody tr th:only-of-type {\n",
       "        vertical-align: middle;\n",
       "    }\n",
       "\n",
       "    .dataframe tbody tr th {\n",
       "        vertical-align: top;\n",
       "    }\n",
       "\n",
       "    .dataframe thead th {\n",
       "        text-align: right;\n",
       "    }\n",
       "</style>\n",
       "<table border=\"1\" class=\"dataframe\">\n",
       "  <thead>\n",
       "    <tr style=\"text-align: right;\">\n",
       "      <th></th>\n",
       "      <th>url</th>\n",
       "      <th>h1</th>\n",
       "      <th>text</th>\n",
       "    </tr>\n",
       "  </thead>\n",
       "  <tbody>\n",
       "    <tr>\n",
       "      <th>0</th>\n",
       "      <td>https://finance.yahoo.com/news/analysts-made-f...</td>\n",
       "      <td>Analysts Have Made A Financial Statement On DW...</td>\n",
       "      <td>Last week, you might have seen that DWS Group ...</td>\n",
       "    </tr>\n",
       "  </tbody>\n",
       "</table>\n",
       "</div>"
      ],
      "text/plain": [
       "                                                 url  \\\n",
       "0  https://finance.yahoo.com/news/analysts-made-f...   \n",
       "\n",
       "                                                  h1  \\\n",
       "0  Analysts Have Made A Financial Statement On DW...   \n",
       "\n",
       "                                                text  \n",
       "0  Last week, you might have seen that DWS Group ...  "
      ]
     },
     "execution_count": 434,
     "metadata": {},
     "output_type": "execute_result"
    }
   ],
   "source": [
    "yf_news"
   ]
  },
  {
   "cell_type": "code",
   "execution_count": 419,
   "metadata": {},
   "outputs": [],
   "source": [
    "def split_text(text):\n",
    "    \n",
    "    max_length = 750\n",
    "    split_texts = []\n",
    "    start = 0\n",
    "    end = max_length\n",
    "\n",
    "    while end < len(text):\n",
    "        while text[end] not in ['.','!','?', ':', ';', '()']:\n",
    "            end -= 1\n",
    "        split_texts.append(text[start:end+1])\n",
    "        start = end + 1\n",
    "        end = start + max_length\n",
    "\n",
    "    split_texts.append(text[start:])\n",
    "    text_segments = pd.DataFrame(\n",
    "        {\n",
    "            'article': [text] * len(split_texts),\n",
    "            'segment': split_texts\n",
    "        }\n",
    "    )\n",
    "\n",
    "    return text_segments"
   ]
  },
  {
   "cell_type": "code",
   "execution_count": 420,
   "metadata": {},
   "outputs": [],
   "source": [
    "def combine_texts(news):\n",
    "\n",
    "    combined_data = {\n",
    "        'h1': [], \n",
    "        'article': [], \n",
    "        'segment': []\n",
    "    }\n",
    "\n",
    "    for article, h1 in zip(news['text'], news['h1']):\n",
    "        text_result = split_text(article)\n",
    "        combined_data['h1'].extend([h1] * len(text_result['segment']))\n",
    "        combined_data['article'].extend([text_result['article']] * len(text_result['segment']))\n",
    "        combined_data['segment'].extend(text_result['segment'])\n",
    "\n",
    "    combined_df = pd.DataFrame(combined_data)\n",
    "    combined_df['article'] = combined_df['article'].iloc[1]\n",
    "    return combined_df"
   ]
  },
  {
   "cell_type": "code",
   "execution_count": 421,
   "metadata": {},
   "outputs": [
    {
     "data": {
      "text/html": [
       "<div>\n",
       "<style scoped>\n",
       "    .dataframe tbody tr th:only-of-type {\n",
       "        vertical-align: middle;\n",
       "    }\n",
       "\n",
       "    .dataframe tbody tr th {\n",
       "        vertical-align: top;\n",
       "    }\n",
       "\n",
       "    .dataframe thead th {\n",
       "        text-align: right;\n",
       "    }\n",
       "</style>\n",
       "<table border=\"1\" class=\"dataframe\">\n",
       "  <thead>\n",
       "    <tr style=\"text-align: right;\">\n",
       "      <th></th>\n",
       "      <th>h1</th>\n",
       "      <th>article</th>\n",
       "      <th>segment</th>\n",
       "    </tr>\n",
       "  </thead>\n",
       "  <tbody>\n",
       "    <tr>\n",
       "      <th>0</th>\n",
       "      <td>Analysts Have Made A Financial Statement On DW...</td>\n",
       "      <td>Last week, you might have seen that DWS Group ...</td>\n",
       "      <td>Last week, you might have seen that DWS Group ...</td>\n",
       "    </tr>\n",
       "    <tr>\n",
       "      <th>1</th>\n",
       "      <td>Analysts Have Made A Financial Statement On DW...</td>\n",
       "      <td>Last week, you might have seen that DWS Group ...</td>\n",
       "      <td>Check out our latest analysis for DWS Group G...</td>\n",
       "    </tr>\n",
       "    <tr>\n",
       "      <th>2</th>\n",
       "      <td>Analysts Have Made A Financial Statement On DW...</td>\n",
       "      <td>Last week, you might have seen that DWS Group ...</td>\n",
       "      <td>84 price target, showing that the analysts don...</td>\n",
       "    </tr>\n",
       "    <tr>\n",
       "      <th>3</th>\n",
       "      <td>Analysts Have Made A Financial Statement On DW...</td>\n",
       "      <td>Last week, you might have seen that DWS Group ...</td>\n",
       "      <td>It's pretty clear that there is an expectatio...</td>\n",
       "    </tr>\n",
       "    <tr>\n",
       "      <th>4</th>\n",
       "      <td>Analysts Have Made A Financial Statement On DW...</td>\n",
       "      <td>Last week, you might have seen that DWS Group ...</td>\n",
       "      <td>The most important thing to take away is that...</td>\n",
       "    </tr>\n",
       "    <tr>\n",
       "      <th>5</th>\n",
       "      <td>Analysts Have Made A Financial Statement On DW...</td>\n",
       "      <td>Last week, you might have seen that DWS Group ...</td>\n",
       "      <td>We have estimates - from multiple DWS Group G...</td>\n",
       "    </tr>\n",
       "    <tr>\n",
       "      <th>6</th>\n",
       "      <td>Analysts Have Made A Financial Statement On DW...</td>\n",
       "      <td>Last week, you might have seen that DWS Group ...</td>\n",
       "      <td>It does not constitute a recommendation to bu...</td>\n",
       "    </tr>\n",
       "  </tbody>\n",
       "</table>\n",
       "</div>"
      ],
      "text/plain": [
       "                                                  h1  \\\n",
       "0  Analysts Have Made A Financial Statement On DW...   \n",
       "1  Analysts Have Made A Financial Statement On DW...   \n",
       "2  Analysts Have Made A Financial Statement On DW...   \n",
       "3  Analysts Have Made A Financial Statement On DW...   \n",
       "4  Analysts Have Made A Financial Statement On DW...   \n",
       "5  Analysts Have Made A Financial Statement On DW...   \n",
       "6  Analysts Have Made A Financial Statement On DW...   \n",
       "\n",
       "                                             article  \\\n",
       "0  Last week, you might have seen that DWS Group ...   \n",
       "1  Last week, you might have seen that DWS Group ...   \n",
       "2  Last week, you might have seen that DWS Group ...   \n",
       "3  Last week, you might have seen that DWS Group ...   \n",
       "4  Last week, you might have seen that DWS Group ...   \n",
       "5  Last week, you might have seen that DWS Group ...   \n",
       "6  Last week, you might have seen that DWS Group ...   \n",
       "\n",
       "                                             segment  \n",
       "0  Last week, you might have seen that DWS Group ...  \n",
       "1   Check out our latest analysis for DWS Group G...  \n",
       "2  84 price target, showing that the analysts don...  \n",
       "3   It's pretty clear that there is an expectatio...  \n",
       "4   The most important thing to take away is that...  \n",
       "5   We have estimates - from multiple DWS Group G...  \n",
       "6   It does not constitute a recommendation to bu...  "
      ]
     },
     "execution_count": 421,
     "metadata": {},
     "output_type": "execute_result"
    }
   ],
   "source": [
    "combined_text = combine_texts(yf_news)\n",
    "combined_text"
   ]
  },
  {
   "cell_type": "code",
   "execution_count": null,
   "metadata": {},
   "outputs": [],
   "source": [
    "def prompt_for_summary(text):\n",
    "    task = '''\n",
    "    Summarise the given text in no more than 200 words. \n",
    "    The summary should be written in plain English and should filter out jargons for them to be displayed at the end in a numbered bulletpoint format.\n",
    "    '''\n",
    "    return task + text\n"
   ]
  }
 ],
 "metadata": {
  "kernelspec": {
   "display_name": "practice-venv",
   "language": "python",
   "name": "python3"
  },
  "language_info": {
   "codemirror_mode": {
    "name": "ipython",
    "version": 3
   },
   "file_extension": ".py",
   "mimetype": "text/x-python",
   "name": "python",
   "nbconvert_exporter": "python",
   "pygments_lexer": "ipython3",
   "version": "3.9.0"
  }
 },
 "nbformat": 4,
 "nbformat_minor": 2
}
