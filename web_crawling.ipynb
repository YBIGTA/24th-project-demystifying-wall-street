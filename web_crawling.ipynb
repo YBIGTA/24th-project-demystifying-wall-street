{
 "cells": [
  {
   "cell_type": "code",
   "execution_count": 27,
   "metadata": {},
   "outputs": [
    {
     "name": "stderr",
     "output_type": "stream",
     "text": [
      "C:\\Users\\USER\\AppData\\Local\\Temp\\ipykernel_13792\\2069570731.py:5: DeprecationWarning: \n",
      "Pyarrow will become a required dependency of pandas in the next major release of pandas (pandas 3.0),\n",
      "(to allow more performant data types, such as the Arrow string type, and better interoperability with other libraries)\n",
      "but was not found to be installed on your system.\n",
      "If this would cause problems for you,\n",
      "please provide us feedback at https://github.com/pandas-dev/pandas/issues/54466\n",
      "        \n",
      "  import pandas as pd\n"
     ]
    }
   ],
   "source": [
    "from selenium.webdriver.chrome.service import Service\n",
    "from selenium.webdriver.common.keys import Keys\n",
    "from selenium.webdriver.chrome.options import Options\n",
    "from webdriver_manager.chrome import ChromeDriverManager\n",
    "import pandas as pd\n",
    "import numpy as np\n",
    "import time\n",
    "from selenium.webdriver.common.by import By\n",
    "from selenium.webdriver.support.ui import WebDriverWait\n",
    "from selenium.webdriver.support import expected_conditions as EC\n",
    "import re\n",
    "# import selenium\n",
    "from selenium import webdriver\n",
    "import undetected_chromedriver as uc\n",
    "import random\n",
    "from selenium.webdriver.common.action_chains import ActionChains\n",
    "from selenium.common.exceptions import WebDriverException\n",
    "from selenium.common.exceptions import TimeoutException\n",
    "from selenium.common.exceptions import StaleElementReferenceException\n",
    "import requests"
   ]
  },
  {
   "cell_type": "code",
   "execution_count": 29,
   "metadata": {},
   "outputs": [],
   "source": [
    "# Incognito Chrome\n",
    "\n",
    "'''chrome_options = Options()\n",
    "chrome_options.add_experimental_option(\"detach\", True)\n",
    "chrome_options.headless = False # For debugging. SHould be set to True when running in an actual test case\n",
    "chrome_options.add_experimental_option(\"excludeSwitches\",[\"enable-logging\"])\n",
    "chrome_options.add_argument(\"--incognito\")\n",
    "\n",
    "driver = webdriver.Chrome(options=chrome_options)'''"
   ]
  },
  {
   "cell_type": "code",
   "execution_count": 3,
   "metadata": {},
   "outputs": [
    {
     "name": "stdout",
     "output_type": "stream",
     "text": [
      "4.17.2\n"
     ]
    }
   ],
   "source": [
    "print(selenium.__version__)"
   ]
  },
  {
   "cell_type": "markdown",
   "metadata": {},
   "source": [
    "* Summary:\n",
    "\n",
    "1) Bloomberg는 cookies acceptance 라는 Javascript rendering 때문에 Zenrows API를 사용하였습니다!\n",
    "\n",
    "2) Yahoo Finance랑 Wall Street Journal은 Undetected Chromedriver로 해야 verification이 패스가 되고 크롤링이 되서 이걸로 하였습니다!\n",
    "\n",
    "3) Financial Times나 New York Times은 제가 free article limit을 reach했는지는 몰라도 embedded paywall + sign-up 때문에 그냥 기사조차 안들어가집니다 (ㅠㅠ)\n",
    "\n",
    "4) CNBC랑 Forbes는 Apify API를 사용하였습니다! 이 두 뉴스기사들은 왜 Apify API를 썼냐고 궁금하실수있으실겉같은데, 얘네도 실은 Zenrows API, Undetected Chromedriver 둘 다 가능합니다! \n",
    "\n",
    "--> 하지만 Zenrows API는 API credit이 많이나가서 Javascript rendering이 없는, 예를 들어서, cookies acceptance 팝업이 없는 경우에는 Zenrows API credit을 굳이 써야할까 싶어서 쓰지않았습니다..!\n",
    "\n",
    "--> Undetected Chromedriver는 verification이 필요한 경우에는 유용하지만, verification이 필요없는 뉴스기사들 같은 경우에는 이걸 굳이 안써도 될것같은게 스피드가 조금 느립니다ㅠㅠ \n",
    "\n",
    "--> 그래서 대안으로 Apify API를 갖고와봤는데 얘는 속도도 빠르고 좋지만 Javascript rendering, verification이 필요한 뉴스 웹사이트들에는 먹히지않습니다ㅠㅠ"
   ]
  },
  {
   "cell_type": "markdown",
   "metadata": {},
   "source": [
    "* Bloomberg (ZenRows is used to deal with Javascript renderings)"
   ]
  },
  {
   "cell_type": "code",
   "execution_count": 56,
   "metadata": {},
   "outputs": [],
   "source": [
    "# pip install requests beautifulsoup4\n",
    "\n",
    "import requests\n",
    "from zenrows import ZenRowsClient\n",
    "from bs4 import BeautifulSoup\n",
    "\n",
    "client = ZenRowsClient(\"--API KEY\")\n",
    "url = \"https://www.bloomberg.com/news/articles/2024-02-11/five-key-charts-to-watch-in-global-commodity-markets-this-week?srnd=industries-v2\"\n",
    "params = {\"js_render\":\"true\",\"block_resources\":\"media,xhr,eventsource,image\"}\n",
    "\n",
    "response = client.get(url, params=params)\n",
    "soup = BeautifulSoup(response.text, \"html.parser\")\n",
    "\n",
    "blb_news = pd.DataFrame(columns=['URL','h1','text'])\n",
    "\n",
    "title = soup.find(\"h1\").text\n",
    "p_tags = soup.find_all('p', attrs={'class': ['Paragraph_text-SqIsdNjh0t0-', 'Paragraph_text-SqIsdNjh0t0- paywall']})\n",
    "\n",
    "text_content = \"\"\n",
    "for p in p_tags:\n",
    "    text_content += p.text + \" \"\n",
    "text_content = text_content.strip()\n",
    "\n",
    "blb_news = blb_news._append(\n",
    "    {\"URL\": url,\n",
    "     \"h1\": title,\n",
    "     \"text\": text_content},\n",
    "    ignore_index=True\n",
    ")\n"
   ]
  },
  {
   "cell_type": "code",
   "execution_count": 57,
   "metadata": {},
   "outputs": [
    {
     "data": {
      "text/html": [
       "<div>\n",
       "<style scoped>\n",
       "    .dataframe tbody tr th:only-of-type {\n",
       "        vertical-align: middle;\n",
       "    }\n",
       "\n",
       "    .dataframe tbody tr th {\n",
       "        vertical-align: top;\n",
       "    }\n",
       "\n",
       "    .dataframe thead th {\n",
       "        text-align: right;\n",
       "    }\n",
       "</style>\n",
       "<table border=\"1\" class=\"dataframe\">\n",
       "  <thead>\n",
       "    <tr style=\"text-align: right;\">\n",
       "      <th></th>\n",
       "      <th>URL</th>\n",
       "      <th>h1</th>\n",
       "      <th>text</th>\n",
       "    </tr>\n",
       "  </thead>\n",
       "  <tbody>\n",
       "    <tr>\n",
       "      <th>0</th>\n",
       "      <td>https://www.bloomberg.com/news/articles/2024-0...</td>\n",
       "      <td>Five Key Charts to Watch in Global Commodity M...</td>\n",
       "      <td>It’s bad timing for chocolate lovers with coco...</td>\n",
       "    </tr>\n",
       "  </tbody>\n",
       "</table>\n",
       "</div>"
      ],
      "text/plain": [
       "                                                 URL  \\\n",
       "0  https://www.bloomberg.com/news/articles/2024-0...   \n",
       "\n",
       "                                                  h1  \\\n",
       "0  Five Key Charts to Watch in Global Commodity M...   \n",
       "\n",
       "                                                text  \n",
       "0  It’s bad timing for chocolate lovers with coco...  "
      ]
     },
     "execution_count": 57,
     "metadata": {},
     "output_type": "execute_result"
    }
   ],
   "source": [
    "blb_news"
   ]
  },
  {
   "cell_type": "code",
   "execution_count": 58,
   "metadata": {},
   "outputs": [
    {
     "data": {
      "text/plain": [
       "'It’s bad timing for chocolate lovers with cocoa prices soaring to the highest ever. Meanwhile, record warm temperatures look set to continue, posing an ongoing threat to crops, energy supplies and transportation. The Organization of Petroleum Exporting Countries and the International Energy Agency publish their respective monthly oil market reports. And more earnings are on tap, including from mining behemoth Barrick Gold Corp., machinery maker Deere & Co. and oil companies Eni SpA and Occidental Petroleum Corp. Here are five notable charts to consider in global commodity markets as the week gets underway.'"
      ]
     },
     "execution_count": 58,
     "metadata": {},
     "output_type": "execute_result"
    }
   ],
   "source": [
    "blb_news['text'][0]"
   ]
  },
  {
   "cell_type": "markdown",
   "metadata": {},
   "source": [
    "* Yahoo Finance (Undetected Chromedriver is used. Apify API does not work with this news source for some reason..)"
   ]
  },
  {
   "cell_type": "code",
   "execution_count": 31,
   "metadata": {},
   "outputs": [],
   "source": [
    "def get_yf_news(url):\n",
    "\n",
    "    '''driver = webdriver.Chrome(options=chrome_options)\n",
    "    driver.get(url)\n",
    "    driver.implicitly_wait(2)'''\n",
    "\n",
    "    options = webdriver.ChromeOptions()\n",
    "    options.add_argument('proxy-server=172.67.134.0:80')\n",
    "    options.add_argument(\"--disable-cache\")\n",
    "    browser = uc.Chrome(\n",
    "        options = options\n",
    "    )\n",
    "    browser.get(url)\n",
    "    browser.implicitly_wait(2)\n",
    "\n",
    "    try:\n",
    "        for web_page in range(2):\n",
    "            interval = 1 \n",
    "            prev_height = browser.execute_script(\"return document.body.scrollHeight\")\n",
    "\n",
    "            while True:\n",
    "                browser.execute_script(\"window.scrollTo(0, document.body.scrollHeight)\")\n",
    "                time.sleep(interval)\n",
    "                curr_height = browser.execute_script(\"return document.body.scrollHeight\")\n",
    "                if curr_height == prev_height:\n",
    "                    break\n",
    "                prev_height = curr_height\n",
    "\n",
    "            #try:\n",
    "                #browser.execute_script(\"arguments[0].click();\", WebDriverWait(browser, 20).until(EC.element_to_be_clickable((By.CLASS_NAME,\"collapse-button\"))))\n",
    "            #except Exception as e:\n",
    "                #print(f\"Error: {str(e)}\")\n",
    "\n",
    "        news_url = []\n",
    "        \n",
    "        hrefs = [element.get_attribute(\"href\") for element in browser.find_elements(By.XPATH, \"//*[@href]\")]\n",
    "\n",
    "        for href in hrefs:\n",
    "            if href.endswith('.html'):\n",
    "                news_url.append(href)\n",
    "\n",
    "        news = pd.DataFrame(columns=['url', 'h1', 'text'])\n",
    "\n",
    "        for url in news_url[:1]:\n",
    "            if url.endswith('.html'):\n",
    "                news_url.append(url)\n",
    "\n",
    "            h1 = browser.find_element(By.TAG_NAME, 'h1')\n",
    "            h1 = h1.text \n",
    "\n",
    "            p_tags = browser.find_elements(By.TAG_NAME, 'p')\n",
    "\n",
    "            text_content = \"\"\n",
    "            for p in p_tags:\n",
    "                text_content += p.text + \" \"\n",
    "            text_content = text_content.strip()\n",
    "\n",
    "            news = news._append({'url': url, 'h1': ''.join(h1), 'text': text_content}, ignore_index=True)\n",
    "            return news\n",
    "        \n",
    "    finally:\n",
    "        browser.delete_all_cookies()\n",
    "        browser.quit()"
   ]
  },
  {
   "cell_type": "code",
   "execution_count": 32,
   "metadata": {},
   "outputs": [],
   "source": [
    "# Undetected Chromedriver took 35.5 seconds to scrape the news\n",
    "# Incognito Chrome took 44.2 seconds to complete the same task\n",
    "\n",
    "yf_news = get_yf_news(\"https://finance.yahoo.com/news/analysts-made-financial-statement-dws-060237470.html\")"
   ]
  },
  {
   "cell_type": "code",
   "execution_count": 34,
   "metadata": {},
   "outputs": [
    {
     "data": {
      "text/plain": [
       "\"Last week, you might have seen that DWS Group GmbH & Co. KGaA (ETR:DWS) released its annual result to the market. The early response was not positive, with shares down 5.6% to €35.72 in the past week. Revenues of €2.6b were in line with forecasts, although statutory earnings per share (EPS) came in below expectations at €2.83, missing estimates by 3.0%. Following the result, the analysts have updated their earnings model, and it would be good to know whether they think there's been a strong change in the company's prospects, or if it's business as usual. We thought readers would find it interesting to see the analysts latest (statutory) post-earnings forecasts for next year. Check out our latest analysis for DWS Group GmbH KGaA Following last week's earnings report, DWS Group GmbH KGaA's eleven analysts are forecasting 2024 revenues to be €2.65b, approximately in line with the last 12 months. Statutory earnings per share are predicted to grow 11% to €3.13. Yet prior to the latest earnings, the analysts had been anticipated revenues of €2.72b and earnings per share (EPS) of €3.29 in 2024. It's pretty clear that pessimism has reared its head after the latest results, leading to a weaker revenue outlook and a minor downgrade to earnings per share estimates. Despite the cuts to forecast earnings, there was no real change to the €40.84 price target, showing that the analysts don't think the changes have a meaningful impact on its intrinsic value. It could also be instructive to look at the range of analyst estimates, to evaluate how different the outlier opinions are from the mean. Currently, the most bullish analyst values DWS Group GmbH KGaA at €57.00 per share, while the most bearish prices it at €32.00. This is a fairly broad spread of estimates, suggesting that analysts are forecasting a wide range of possible outcomes for the business. Of course, another way to look at these forecasts is to place them into context against the industry itself. It's pretty clear that there is an expectation that DWS Group GmbH KGaA's revenue growth will slow down substantially, with revenues to the end of 2024 expected to display 1.5% growth on an annualised basis. This is compared to a historical growth rate of 4.0% over the past five years. Compare this against other companies (with analyst forecasts) in the industry, which are in aggregate expected to see revenue growth of 5.6% annually. So it's pretty clear that, while revenue growth is expected to slow down, the wider industry is also expected to grow faster than DWS Group GmbH KGaA.      Related Quotes\""
      ]
     },
     "execution_count": 34,
     "metadata": {},
     "output_type": "execute_result"
    }
   ],
   "source": [
    "yf_news['text'][0]"
   ]
  },
  {
   "cell_type": "markdown",
   "metadata": {},
   "source": [
    "* Wall Street Journal (Undetected Chromedriver is used)"
   ]
  },
  {
   "cell_type": "code",
   "execution_count": 35,
   "metadata": {},
   "outputs": [],
   "source": [
    "def get_wsj_news(url):\n",
    "\n",
    "    options = webdriver.ChromeOptions()\n",
    "    # https://hidemy.io/en/proxy-list/ 에서 proxy server 가져오시면 되는데 스피드가 가장 좋은 서버를 선택하면 크롤링도 빨라지더라구요..!\n",
    "    options.add_argument('proxy-server=172.67.134.0:80')\n",
    "    options.add_argument(\"--disable-cache\")\n",
    "    browser = uc.Chrome(\n",
    "        options = options\n",
    "    )\n",
    "    browser.get(url)\n",
    "    browser.implicitly_wait(2)\n",
    "\n",
    "    try:\n",
    "        for web_page in range(2):\n",
    "            interval = 1\n",
    "            prev_height = browser.execute_script(\"return document.body.scrollHeight\")\n",
    "\n",
    "            while True:\n",
    "                browser.execute_script(\"window.scrollTo(0, document.body.scrollHeight)\")\n",
    "                time.sleep(interval)\n",
    "                curr_height = browser.execute_script(\"return document.body.scrollHeight\")\n",
    "                if curr_height == prev_height:\n",
    "                    break\n",
    "                prev_height = curr_height\n",
    "\n",
    "\n",
    "        news_url = []\n",
    "        \n",
    "        hrefs = [element.get_attribute(\"href\") for element in browser.find_elements(By.XPATH, \"//*[@href]\")]\n",
    "\n",
    "        for href in hrefs:\n",
    "            news_url.append(href)\n",
    "\n",
    "        news = pd.DataFrame(columns=['url', 'h1', 'text'])\n",
    "\n",
    "        for url in news_url[:1]:\n",
    "            news_url.append(url)\n",
    "\n",
    "            h1 = browser.find_element(By.TAG_NAME, 'h1')\n",
    "            h1 = h1.text \n",
    "\n",
    "            p_tags = browser.find_elements(By.CLASS_NAME, 'e1e4oisd0')\n",
    "\n",
    "            text_content = \"\"\n",
    "            for p in p_tags:\n",
    "                text_content += p.text + \" \"\n",
    "            text_content = text_content.strip()\n",
    "\n",
    "            news = news._append({'url': url, 'h1': ''.join(h1), 'text': text_content}, ignore_index=True)\n",
    "            return news\n",
    "        \n",
    "    finally:\n",
    "        browser.delete_all_cookies()\n",
    "        browser.quit()"
   ]
  },
  {
   "cell_type": "code",
   "execution_count": 36,
   "metadata": {},
   "outputs": [],
   "source": [
    "wsj_news = get_wsj_news('https://www.wsj.com/finance/investing/your-mutual-fund-stinks-can-this-wall-street-invention-change-that-73e86075?mod=finance_lead_pos5')"
   ]
  },
  {
   "cell_type": "code",
   "execution_count": 37,
   "metadata": {},
   "outputs": [
    {
     "data": {
      "text/html": [
       "<div>\n",
       "<style scoped>\n",
       "    .dataframe tbody tr th:only-of-type {\n",
       "        vertical-align: middle;\n",
       "    }\n",
       "\n",
       "    .dataframe tbody tr th {\n",
       "        vertical-align: top;\n",
       "    }\n",
       "\n",
       "    .dataframe thead th {\n",
       "        text-align: right;\n",
       "    }\n",
       "</style>\n",
       "<table border=\"1\" class=\"dataframe\">\n",
       "  <thead>\n",
       "    <tr style=\"text-align: right;\">\n",
       "      <th></th>\n",
       "      <th>url</th>\n",
       "      <th>h1</th>\n",
       "      <th>text</th>\n",
       "    </tr>\n",
       "  </thead>\n",
       "  <tbody>\n",
       "    <tr>\n",
       "      <th>0</th>\n",
       "      <td>https://www.wsj.com/finance/investing/your-mut...</td>\n",
       "      <td>Your Mutual Fund Stinks. Can This Wall Street ...</td>\n",
       "      <td>With ETFs, you can go along for the ride—or, p...</td>\n",
       "    </tr>\n",
       "  </tbody>\n",
       "</table>\n",
       "</div>"
      ],
      "text/plain": [
       "                                                 url  \\\n",
       "0  https://www.wsj.com/finance/investing/your-mut...   \n",
       "\n",
       "                                                  h1  \\\n",
       "0  Your Mutual Fund Stinks. Can This Wall Street ...   \n",
       "\n",
       "                                                text  \n",
       "0  With ETFs, you can go along for the ride—or, p...  "
      ]
     },
     "execution_count": 37,
     "metadata": {},
     "output_type": "execute_result"
    }
   ],
   "source": [
    "wsj_news"
   ]
  },
  {
   "cell_type": "code",
   "execution_count": 39,
   "metadata": {},
   "outputs": [
    {
     "data": {
      "text/plain": [
       "'With ETFs, you can go along for the ride—or, perhaps, get taken for a ride. The typical exchange-traded fund is cheaper, performs better and produces lower tax bills than its ancestor, the mutual fund. As a result, investors have replaced mutual funds with ETFs en masse. Fund companies are feverishly working on plans to slow that outflow. At passive, market-tracking index funds, the ultimate result will probably be even lower costs and tax bills. At underperforming active funds, it could entrap disgruntled investors and keep them from voting with their feet. You’ll have to guard against the possibility that ETFs might not work for you—but against you.'"
      ]
     },
     "execution_count": 39,
     "metadata": {},
     "output_type": "execute_result"
    }
   ],
   "source": [
    "wsj_news['text'][0]"
   ]
  },
  {
   "cell_type": "markdown",
   "metadata": {},
   "source": [
    "* Financial Times and New York Times (Embedded paywall + signup) [X]"
   ]
  },
  {
   "cell_type": "code",
   "execution_count": 62,
   "metadata": {},
   "outputs": [],
   "source": [
    "import requests\n",
    "from zenrows import ZenRowsClient\n",
    "from bs4 import BeautifulSoup\n",
    "\n",
    "client = ZenRowsClient(\"--API KEY--\")\n",
    "url = \"https://www.ft.com/content/7a97e9c9-444f-4a5a-88ee-e5e9a8aea4d2\"\n",
    "params = {\"js_render\":\"true\",\"block_resources\":\"media,xhr,eventsource,image\"}\n",
    "\n",
    "response = client.get(url, params=params)\n",
    "soup = BeautifulSoup(response.text, \"html.parser\")\n",
    "\n",
    "ft_news = pd.DataFrame(columns=['URL','h1','text'])\n",
    "\n",
    "title = soup.find(\"h1\").text\n",
    "p_tags = soup.find_all('p')\n",
    "\n",
    "text_content = \"\"\n",
    "for p in p_tags:\n",
    "    text_content += p.text + \" \"\n",
    "text_content = text_content.strip()\n",
    "\n",
    "ft_news = ft_news._append(\n",
    "    {\"URL\": url,\n",
    "     \"h1\": title,\n",
    "     \"text\": text_content},\n",
    "    ignore_index=True\n",
    ")\n"
   ]
  },
  {
   "cell_type": "code",
   "execution_count": 65,
   "metadata": {},
   "outputs": [
    {
     "data": {
      "text/html": [
       "<div>\n",
       "<style scoped>\n",
       "    .dataframe tbody tr th:only-of-type {\n",
       "        vertical-align: middle;\n",
       "    }\n",
       "\n",
       "    .dataframe tbody tr th {\n",
       "        vertical-align: top;\n",
       "    }\n",
       "\n",
       "    .dataframe thead th {\n",
       "        text-align: right;\n",
       "    }\n",
       "</style>\n",
       "<table border=\"1\" class=\"dataframe\">\n",
       "  <thead>\n",
       "    <tr style=\"text-align: right;\">\n",
       "      <th></th>\n",
       "      <th>URL</th>\n",
       "      <th>h1</th>\n",
       "      <th>text</th>\n",
       "    </tr>\n",
       "  </thead>\n",
       "  <tbody>\n",
       "    <tr>\n",
       "      <th>0</th>\n",
       "      <td>https://www.ft.com/content/7a97e9c9-444f-4a5a-...</td>\n",
       "      <td>HSBC caves to investor pressure on capital mar...</td>\n",
       "      <td>Try unlimited accessOnly C$1 for 4 weeks Then ...</td>\n",
       "    </tr>\n",
       "  </tbody>\n",
       "</table>\n",
       "</div>"
      ],
      "text/plain": [
       "                                                 URL  \\\n",
       "0  https://www.ft.com/content/7a97e9c9-444f-4a5a-...   \n",
       "\n",
       "                                                  h1  \\\n",
       "0  HSBC caves to investor pressure on capital mar...   \n",
       "\n",
       "                                                text  \n",
       "0  Try unlimited accessOnly C$1 for 4 weeks Then ...  "
      ]
     },
     "execution_count": 65,
     "metadata": {},
     "output_type": "execute_result"
    }
   ],
   "source": [
    "ft_news"
   ]
  },
  {
   "cell_type": "markdown",
   "metadata": {},
   "source": [
    "* CNBC (Apify API is used to scrape publicly accessible content)"
   ]
  },
  {
   "cell_type": "code",
   "execution_count": 97,
   "metadata": {},
   "outputs": [
    {
     "name": "stdout",
     "output_type": "stream",
     "text": [
      "{'url': 'https://www.cnbc.com/2024/02/11/top-wall-street-analysts-pick-these-3-dividend-stocks-for-the-long-haul.html', 'loadedUrl': 'https://www.cnbc.com/2024/02/11/top-wall-street-analysts-pick-these-3-dividend-stocks-for-the-long-haul.html', 'startUrl': 'https://www.cnbc.com/2024/02/11/top-wall-street-analysts-pick-these-3-dividend-stocks-for-the-long-haul.html', 'title': 'Top Wall Street analysts pick these 3 dividend stocks for the long haul', 'softTitle': 'Top Wall Street analysts pick these 3 dividend stocks for the long haul', 'date': '2024-02-11T11:38:35.000Z', 'author': ['TipRanks.com Staff', 'TipRanks.com Staff'], 'publisher': 'CNBC', 'copyright': '2024 CNBC LLC', 'description': \"TipRanks' analyst ranking service pinpoints Wall Street's best-performing stocks, including Verizon and Enterprise Products Partners.\", 'keywords': 'Enterprise Products Partners LP,Verizon Communications Inc,Investment strategy,Markets,Weekend brief,MPLX LP,Verizon Communications Inc,business news', 'lang': 'en', 'canonicalLink': 'https://www.cnbc.com/2024/02/11/top-wall-street-analysts-pick-these-3-dividend-stocks-for-the-long-haul.html', 'tags': [], 'image': 'https://image.cnbcfm.com/api/v1/image/107200354-1677518669450-verion.jpg?v=1677518692&w=1920&h=1080', 'videos': [], 'links': [{'text': 'dividend stocks', 'href': 'https://www.tipranks.com/dividends'}, {'text': 'Wall Street&apos;s top experts', 'href': 'https://www.tipranks.com/experts/analysts'}, {'text': 'Verizon Communications', 'href': '/quotes/VZ/'}, {'text': '<strong>VZ</strong>', 'href': 'https://www.tipranks.com/stocks/vz/forecast'}, {'text': 'raised its dividend', 'href': 'https://www.verizon.com/about/news/verizon-increases-dividend-17th-consecutive-year'}, {'text': 'Ivan Feinseth', 'href': 'https://www.tipranks.com/experts/analysts/ivan-feinseth'}, {'text': 'Verizon Hedge Fund Activity', 'href': 'https://www.tipranks.com/stocks/vz/hedge-funds'}, {'text': 'Enterprise Products Partners', 'href': '/quotes/EPD/'}, {'text': '<strong>EPD</strong>', 'href': 'https://www.tipranks.com/stocks/epd/forecast'}, {'text': 'announced a quarterly cash distribution of $0.515 per unit', 'href': 'https://ir.enterpriseproducts.com/news-releases/news-release-details/enterprise-declares-quarterly-distribution-11'}, {'text': 'Selman Akyol', 'href': 'https://www.tipranks.com/experts/analysts/selman-akyol'}, {'text': 'EPD Insider Trading Activity', 'href': 'https://www.tipranks.com/stocks/epd/insider-trading'}, {'text': 'MPLX LP', 'href': '/quotes/MPLX/'}, {'text': '<strong>MPLX</strong>', 'href': 'https://www.tipranks.com/stocks/mplx/forecast'}, {'text': 'announced a quarterly distribution ', 'href': 'https://ir.mplx.com/CorporateProfile/press-releases/news-details/2024/MPLX-LP-Announces-Quarterly-Distribution/default.aspx'}, {'text': 'Elvira Scotto', 'href': 'https://www.tipranks.com/experts/analysts/elvira-scotto'}, {'text': 'MPLX Technical Analysis', 'href': 'https://www.tipranks.com/stocks/mplx/technical-analysis'}], 'text': 'A strong fourth-quarter earnings season is underway, and it\\'s time for dividend-paying companies to shine.\\n\\nResilient dividend-paying companies can offer long-term growth potential and steady income. Investors ought to consider the insight of top Wall Street pros as they hunt for dividend stocks with solid fundamentals.\\n\\nHere are three attractive dividend stocks, according to Wall Street\\'s top experts on TipRanks, a platform that ranks analysts based on their past performance.\\n\\nFirst up is telecom giant Verizon Communications (VZ), which recently reported its fourth-quarter results and impressed investors with the robust jump in wireless postpaid phone subscriber additions.\\n\\nIn 2023, the company raised its dividend for the 17th consecutive year. Verizon\\'s quarterly dividend of $0.665 per share (annualized dividend of $2.66), reflects a yield of 6.7%.\\n\\nFollowing Verizon\\'s Q4 results, Tigress Financial analyst Ivan Feinseth reiterated a buy rating on the stock and increased the price target to $50 per share from $45. The analyst noted that the company delivered strong subscriber and cash flow growth in 2023, with further acceleration expected this year.\\n\\n\"Ongoing 5G and fixed wireless broadband momentum and increased services offerings combined with operating efficiencies and margin improvement will drive a reacceleration in cash flow growth and improving Business Performance trends,\" said Feinseth.\\n\\nThe analyst thinks that Verizon\\'s solid balance sheet and cash flow support the company\\'s ongoing investments in spectrum expansion and other growth initiatives as well as dividend hikes. Overall, he thinks that the company offers a compelling investment opportunity, given its high dividend yield and industry-leading position that enables it to benefit from long-term telecom trends.\\n\\nFeinseth ranks No. 214 among more than 8,700 analysts tracked by TipRanks. His ratings have been profitable 61% of the time, with each delivering an average return of 11.7%. (See Verizon Hedge Fund Activity on TipRanks)\\n\\nThis week\\'s second dividend pick is Enterprise Products Partners (EPD), a master limited partnership that provides midstream energy services. Last month, the company announced a quarterly cash distribution of $0.515 per unit for the fourth quarter of 2023, to be paid on Feb. 14. This quarterly distribution marks a 5.1% year-over-year increase and reflects a yield of nearly 8%.\\n\\nIn reaction to EPD\\'s fourth-quarter results, Stifel analyst Selman Akyol reaffirmed a buy rating on the stock and raised the price target to $36 per share from $35. The analyst stated that Q4 2023 results slightly surpassed his expectations. He increased his 2024 earnings before interest, tax, depreciation and amortization estimate by more than 2%, mainly due to the company\\'s natural gas liquids pipeline segment.\\n\\nFurther, Akyol anticipates that the momentum in EPD\\'s pipeline and export throughputs will continue in the near term. The analyst also pointed out that EPD has increased its distributions for 25 years. He expects distributions to be the primary mode of returning capital to unitholders, with buybacks projected to be opportunistic.\\n\\nExplaining his investment stance, Akyol said, \"We believe Enterprise has one of the strongest financial profiles within the midstream sector, and can withstand turbulence from a volatile macro environment.\"\\n\\nAkyol holds the 695th position among more than 8,700 analysts tracked by TipRanks. His ratings have been profitable 64% of the time, with each delivering an average return of 5%. (See EPD Insider Trading Activity on TipRanks)\\n\\nOur third dividend pick is another midstream energy player, MPLX LP (MPLX). Last month, the master limited partnership announced a quarterly distribution of 85 cents per common unit for the fourth quarter of 2023, payable on Feb. 14. MPLX offers a dividend yield of 9%.\\n\\nBased on the recently announced fourth-quarter results, RBC Capital analyst Elvira Scotto reiterated a buy rating on MPLX stock and increased the price target to $46 per share from $45. The analyst noted that the company\\'s Q4 2023 adjusted EBITDA surpassed consensus expectations by 4%, thanks to increased product volumes, higher pipeline rates in the logistics and storage segment, and higher processing volumes in the gathering and processing unit.\\n\\nGiven the high yield offered by the stock, Scotto thinks that MPLX remains one of the most attractive income plays in the large-cap MLP space. The analyst expects a cash distribution of $3.57 per unit in 2024 and $3.84 per unit in 2025. That\\'s up from $3.40 in 2023.\\n\\nScotto thinks that \"future cash flow generation in conjunction with the financial flexibility provided by decreasing leverage and adequate distribution coverage can drive incremental capital returns to investors over time.\"\\n\\nScotto ranks No. 83 among more than 8,700 analysts tracked by TipRanks. Her ratings have been profitable 64% of the time, with each delivering an average return of 17.8%. (See MPLX Technical Analysis on TipRanks)', 'screenshotUrl': None}\n"
     ]
    }
   ],
   "source": [
    "from apify_client import ApifyClient\n",
    "\n",
    "# Initialize the ApifyClient with your API token\n",
    "client = ApifyClient(\"--API KEY--\")\n",
    "\n",
    "# Prepare the Actor input with the extendOutputFunction field containing JavaScript code for web scraping\n",
    "run_input = {\n",
    "    \"articleUrls\": [{\"url\": \"https://www.cnbc.com/2024/02/11/top-wall-street-analysts-pick-these-3-dividend-stocks-for-the-long-haul.html\"}],\n",
    "    \"pageWaitMs\": 100,\n",
    "    \"scrollToBottomMaxSecs\": 2,\n",
    "    \"proxyConfiguration\": {\"useApifyProxy\": True},\n",
    "    \"useGoogleBotHeaders\": True\n",
    "}\n",
    "\n",
    "# Run the Actor and wait for it to finish\n",
    "run = client.actor(\"lukaskrivka/article-extractor-smart\").call(run_input=run_input)\n",
    "\n",
    "# Fetch and print Actor results from the run's dataset (if there are any)\n",
    "for item in client.dataset(run[\"defaultDatasetId\"]).iterate_items():\n",
    "    print(item)"
   ]
  },
  {
   "cell_type": "code",
   "execution_count": 98,
   "metadata": {},
   "outputs": [
    {
     "data": {
      "text/html": [
       "<div>\n",
       "<style scoped>\n",
       "    .dataframe tbody tr th:only-of-type {\n",
       "        vertical-align: middle;\n",
       "    }\n",
       "\n",
       "    .dataframe tbody tr th {\n",
       "        vertical-align: top;\n",
       "    }\n",
       "\n",
       "    .dataframe thead th {\n",
       "        text-align: right;\n",
       "    }\n",
       "</style>\n",
       "<table border=\"1\" class=\"dataframe\">\n",
       "  <thead>\n",
       "    <tr style=\"text-align: right;\">\n",
       "      <th></th>\n",
       "      <th>URL</th>\n",
       "      <th>h1</th>\n",
       "      <th>text</th>\n",
       "    </tr>\n",
       "  </thead>\n",
       "  <tbody>\n",
       "    <tr>\n",
       "      <th>0</th>\n",
       "      <td>https://www.cnbc.com/2024/02/11/top-wall-stree...</td>\n",
       "      <td>Top Wall Street analysts pick these 3 dividend...</td>\n",
       "      <td>A strong fourth-quarter earnings season is und...</td>\n",
       "    </tr>\n",
       "  </tbody>\n",
       "</table>\n",
       "</div>"
      ],
      "text/plain": [
       "                                                 URL  \\\n",
       "0  https://www.cnbc.com/2024/02/11/top-wall-stree...   \n",
       "\n",
       "                                                  h1  \\\n",
       "0  Top Wall Street analysts pick these 3 dividend...   \n",
       "\n",
       "                                                text  \n",
       "0  A strong fourth-quarter earnings season is und...  "
      ]
     },
     "execution_count": 98,
     "metadata": {},
     "output_type": "execute_result"
    }
   ],
   "source": [
    "cnbc_news = pd.DataFrame(columns=['URL','h1','text'])\n",
    "for item in client.dataset(run[\"defaultDatasetId\"]).iterate_items():\n",
    "    cnbc_news = cnbc_news._append(\n",
    "        {\"URL\": item['url'],\n",
    "         \"h1\": item['title'],\n",
    "         \"text\": item['text']},\n",
    "        ignore_index=True\n",
    "    )\n",
    "cnbc_news"
   ]
  },
  {
   "cell_type": "code",
   "execution_count": 153,
   "metadata": {},
   "outputs": [
    {
     "name": "stderr",
     "output_type": "stream",
     "text": [
      "C:\\Users\\USER\\AppData\\Local\\Temp\\ipykernel_13792\\559380656.py:2: FutureWarning: ChainedAssignmentError: behaviour will change in pandas 3.0!\n",
      "You are setting values through chained assignment. Currently this works in certain cases, but when using Copy-on-Write (which will become the default behaviour in pandas 3.0) this will never work to update the original DataFrame or Series, because the intermediate object on which we are setting values will behave as a copy.\n",
      "A typical example is when you are setting values in a column of a DataFrame, like:\n",
      "\n",
      "df[\"col\"][row_indexer] = value\n",
      "\n",
      "Use `df.loc[row_indexer, \"col\"] = values` instead, to perform the assignment in a single step and ensure this keeps updating the original `df`.\n",
      "\n",
      "See the caveats in the documentation: https://pandas.pydata.org/pandas-docs/stable/user_guide/indexing.html#returning-a-view-versus-a-copy\n",
      "\n",
      "  cnbc_news['text'][0] = cnbc_news['text'][0].replace('\\n', ' ')\n",
      "C:\\Users\\USER\\AppData\\Local\\Temp\\ipykernel_13792\\559380656.py:3: FutureWarning: ChainedAssignmentError: behaviour will change in pandas 3.0!\n",
      "You are setting values through chained assignment. Currently this works in certain cases, but when using Copy-on-Write (which will become the default behaviour in pandas 3.0) this will never work to update the original DataFrame or Series, because the intermediate object on which we are setting values will behave as a copy.\n",
      "A typical example is when you are setting values in a column of a DataFrame, like:\n",
      "\n",
      "df[\"col\"][row_indexer] = value\n",
      "\n",
      "Use `df.loc[row_indexer, \"col\"] = values` instead, to perform the assignment in a single step and ensure this keeps updating the original `df`.\n",
      "\n",
      "See the caveats in the documentation: https://pandas.pydata.org/pandas-docs/stable/user_guide/indexing.html#returning-a-view-versus-a-copy\n",
      "\n",
      "  cnbc_news['text'][0] = cnbc_news['text'][0].encode().decode('unicode_escape')\n"
     ]
    },
    {
     "data": {
      "text/html": [
       "<div>\n",
       "<style scoped>\n",
       "    .dataframe tbody tr th:only-of-type {\n",
       "        vertical-align: middle;\n",
       "    }\n",
       "\n",
       "    .dataframe tbody tr th {\n",
       "        vertical-align: top;\n",
       "    }\n",
       "\n",
       "    .dataframe thead th {\n",
       "        text-align: right;\n",
       "    }\n",
       "</style>\n",
       "<table border=\"1\" class=\"dataframe\">\n",
       "  <thead>\n",
       "    <tr style=\"text-align: right;\">\n",
       "      <th></th>\n",
       "      <th>URL</th>\n",
       "      <th>h1</th>\n",
       "      <th>text</th>\n",
       "    </tr>\n",
       "  </thead>\n",
       "  <tbody>\n",
       "    <tr>\n",
       "      <th>0</th>\n",
       "      <td>https://www.cnbc.com/2024/02/11/top-wall-stree...</td>\n",
       "      <td>Top Wall Street analysts pick these 3 dividend...</td>\n",
       "      <td>A strong fourth-quarter earnings season is und...</td>\n",
       "    </tr>\n",
       "  </tbody>\n",
       "</table>\n",
       "</div>"
      ],
      "text/plain": [
       "                                                 URL  \\\n",
       "0  https://www.cnbc.com/2024/02/11/top-wall-stree...   \n",
       "\n",
       "                                                  h1  \\\n",
       "0  Top Wall Street analysts pick these 3 dividend...   \n",
       "\n",
       "                                                text  \n",
       "0  A strong fourth-quarter earnings season is und...  "
      ]
     },
     "execution_count": 153,
     "metadata": {},
     "output_type": "execute_result"
    }
   ],
   "source": [
    "# Dropping any '\\n' and '\\' characters from the text\n",
    "cnbc_news['text'][0] = cnbc_news['text'][0].replace('\\n', ' ')\n",
    "cnbc_news['text'][0] = cnbc_news['text'][0].encode().decode('unicode_escape')\n",
    "# cnbc_news['text'][0] = cnbc_news['text'][0].replace(\"\\\\'\",\"'\")\n",
    "# cnbc_news['text'][0] = cnbc_news['text'][0].split('\\\\')\n",
    "# cnbc_news['text'][0] = ' '.join(cnbc_news['text'][0])\n",
    "cnbc_news['text'] = cnbc_news['text'].iloc[0]\n",
    "cnbc_news"
   ]
  },
  {
   "cell_type": "code",
   "execution_count": 154,
   "metadata": {},
   "outputs": [
    {
     "data": {
      "text/plain": [
       "'A strong fourth-quarter earnings season is underway, and it\\'s time for dividend-paying companies to shine.Resilient dividend-paying companies can offer long-term growth potential and steady income. Investors ought to consider the insight of top Wall Street pros as they hunt for dividend stocks with solid fundamentals.Here are three attractive dividend stocks, according to Wall Street\\'s top experts on TipRanks, a platform that ranks analysts based on their past performance.First up is telecom giant Verizon Communications (VZ), which recently reported its fourth-quarter results and impressed investors with the robust jump in wireless postpaid phone subscriber additions.In 2023, the company raised its dividend for the 17th consecutive year. Verizon\\'s quarterly dividend of $0.665 per share (annualized dividend of $2.66), reflects a yield of 6.7%.Following Verizon\\'s Q4 results, Tigress Financial analyst Ivan Feinseth reiterated a buy rating on the stock and increased the price target to $50 per share from $45. The analyst noted that the company delivered strong subscriber and cash flow growth in 2023, with further acceleration expected this year.\"Ongoing 5G and fixed wireless broadband momentum and increased services offerings combined with operating efficiencies and margin improvement will drive a reacceleration in cash flow growth and improving Business Performance trends,\" said Feinseth.The analyst thinks that Verizon\\'s solid balance sheet and cash flow support the company\\'s ongoing investments in spectrum expansion and other growth initiatives as well as dividend hikes. Overall, he thinks that the company offers a compelling investment opportunity, given its high dividend yield and industry-leading position that enables it to benefit from long-term telecom trends.Feinseth ranks No. 214 among more than 8,700 analysts tracked by TipRanks. His ratings have been profitable 61% of the time, with each delivering an average return of 11.7%. (See Verizon Hedge Fund Activity on TipRanks)This week\\'s second dividend pick is Enterprise Products Partners (EPD), a master limited partnership that provides midstream energy services. Last month, the company announced a quarterly cash distribution of $0.515 per unit for the fourth quarter of 2023, to be paid on Feb. 14. This quarterly distribution marks a 5.1% year-over-year increase and reflects a yield of nearly 8%.In reaction to EPD\\'s fourth-quarter results, Stifel analyst Selman Akyol reaffirmed a buy rating on the stock and raised the price target to $36 per share from $35. The analyst stated that Q4 2023 results slightly surpassed his expectations. He increased his 2024 earnings before interest, tax, depreciation and amortization estimate by more than 2%, mainly due to the company\\'s natural gas liquids pipeline segment.Further, Akyol anticipates that the momentum in EPD\\'s pipeline and export throughputs will continue in the near term. The analyst also pointed out that EPD has increased its distributions for 25 years. He expects distributions to be the primary mode of returning capital to unitholders, with buybacks projected to be opportunistic.Explaining his investment stance, Akyol said, \"We believe Enterprise has one of the strongest financial profiles within the midstream sector, and can withstand turbulence from a volatile macro environment.\"Akyol holds the 695th position among more than 8,700 analysts tracked by TipRanks. His ratings have been profitable 64% of the time, with each delivering an average return of 5%. (See EPD Insider Trading Activity on TipRanks)Our third dividend pick is another midstream energy player, MPLX LP (MPLX). Last month, the master limited partnership announced a quarterly distribution of 85 cents per common unit for the fourth quarter of 2023, payable on Feb. 14. MPLX offers a dividend yield of 9%.Based on the recently announced fourth-quarter results, RBC Capital analyst Elvira Scotto reiterated a buy rating on MPLX stock and increased the price target to $46 per share from $45. The analyst noted that the company\\'s Q4 2023 adjusted EBITDA surpassed consensus expectations by 4%, thanks to increased product volumes, higher pipeline rates in the logistics and storage segment, and higher processing volumes in the gathering and processing unit.Given the high yield offered by the stock, Scotto thinks that MPLX remains one of the most attractive income plays in the large-cap MLP space. The analyst expects a cash distribution of $3.57 per unit in 2024 and $3.84 per unit in 2025. That\\'s up from $3.40 in 2023.Scotto thinks that \"future cash flow generation in conjunction with the financial flexibility provided by decreasing leverage and adequate distribution coverage can drive incremental capital returns to investors over time.\"Scotto ranks No. 83 among more than 8,700 analysts tracked by TipRanks. Her ratings have been profitable 64% of the time, with each delivering an average return of 17.8%. (See MPLX Technical Analysis on TipRanks)'"
      ]
     },
     "execution_count": 154,
     "metadata": {},
     "output_type": "execute_result"
    }
   ],
   "source": [
    "cnbc_news['text'].iloc[0]"
   ]
  },
  {
   "cell_type": "code",
   "execution_count": 124,
   "metadata": {},
   "outputs": [
    {
     "name": "stdout",
     "output_type": "stream",
     "text": [
      " the company's \n"
     ]
    }
   ],
   "source": [
    "test = \" the company\\'s \"\n",
    "new_test = test.replace('\\\\\\'', \"'\")\n",
    "print(new_test)\n"
   ]
  },
  {
   "cell_type": "code",
   "execution_count": 130,
   "metadata": {},
   "outputs": [
    {
     "data": {
      "text/plain": [
       "\"the company's\""
      ]
     },
     "execution_count": 130,
     "metadata": {},
     "output_type": "execute_result"
    }
   ],
   "source": [
    "test = \" the company\\'s \"\n",
    "new_test = test.split('\\\\')\n",
    "new_test = ''.join(new_test).strip()\n",
    "new_test"
   ]
  },
  {
   "cell_type": "markdown",
   "metadata": {},
   "source": [
    "* Forbes (Apify API)"
   ]
  },
  {
   "cell_type": "code",
   "execution_count": 158,
   "metadata": {},
   "outputs": [
    {
     "data": {
      "text/html": [
       "<div>\n",
       "<style scoped>\n",
       "    .dataframe tbody tr th:only-of-type {\n",
       "        vertical-align: middle;\n",
       "    }\n",
       "\n",
       "    .dataframe tbody tr th {\n",
       "        vertical-align: top;\n",
       "    }\n",
       "\n",
       "    .dataframe thead th {\n",
       "        text-align: right;\n",
       "    }\n",
       "</style>\n",
       "<table border=\"1\" class=\"dataframe\">\n",
       "  <thead>\n",
       "    <tr style=\"text-align: right;\">\n",
       "      <th></th>\n",
       "      <th>URL</th>\n",
       "      <th>h1</th>\n",
       "      <th>text</th>\n",
       "    </tr>\n",
       "  </thead>\n",
       "  <tbody>\n",
       "    <tr>\n",
       "      <th>0</th>\n",
       "      <td>https://www.forbes.com/sites/karlfreund/2024/0...</td>\n",
       "      <td>Why Nvidia Is Entering The $30B Market For Cus...</td>\n",
       "      <td>Nvidia’s largest customers (e.g., Google, Amaz...</td>\n",
       "    </tr>\n",
       "  </tbody>\n",
       "</table>\n",
       "</div>"
      ],
      "text/plain": [
       "                                                 URL  \\\n",
       "0  https://www.forbes.com/sites/karlfreund/2024/0...   \n",
       "\n",
       "                                                  h1  \\\n",
       "0  Why Nvidia Is Entering The $30B Market For Cus...   \n",
       "\n",
       "                                                text  \n",
       "0  Nvidia’s largest customers (e.g., Google, Amaz...  "
      ]
     },
     "execution_count": 158,
     "metadata": {},
     "output_type": "execute_result"
    }
   ],
   "source": [
    "from apify_client import ApifyClient\n",
    "\n",
    "# Initialize the ApifyClient with your API token\n",
    "client = ApifyClient(\"--API KEY--\")\n",
    "\n",
    "# Prepare the Actor input with the extendOutputFunction field containing JavaScript code for web scraping\n",
    "run_input = {\n",
    "    \"articleUrls\": [{\"url\": \"https://www.forbes.com/sites/karlfreund/2024/02/09/why-nvidia-is-entering-the-30b-market-for-custom-chips/?sh=39ac09bd6d290\"}],\n",
    "    \"pageWaitMs\": 100,\n",
    "    \"scrollToBottomMaxSecs\": 2,\n",
    "    \"proxyConfiguration\": {\"useApifyProxy\": True},\n",
    "    \"useGoogleBotHeaders\": True\n",
    "}\n",
    "\n",
    "# Run the Actor and wait for it to finish\n",
    "run = client.actor(\"lukaskrivka/article-extractor-smart\").call(run_input=run_input)\n",
    "\n",
    "fb_news = pd.DataFrame(columns=['URL','h1','text'])\n",
    "for item in client.dataset(run[\"defaultDatasetId\"]).iterate_items():\n",
    "    fb_news = fb_news._append(\n",
    "        {\"URL\": item['url'],\n",
    "         \"h1\": item['title'],\n",
    "         \"text\": item['text']},\n",
    "        ignore_index=True\n",
    "    )\n",
    "    \n",
    "fb_news"
   ]
  },
  {
   "cell_type": "code",
   "execution_count": 162,
   "metadata": {},
   "outputs": [
    {
     "data": {
      "text/plain": [
       "'Nvidia’s largest customers (e.g., Google, Amazon, Microsoft, Meta, and OpenAI) are developing AI chips that compete with Nvidia, presenting a potential long-term threat to the AI leader. Jensen’s response? “We can help you do that.”  Warning: this blog contains speculation that has not been verified.... But fun to think about!  When I was working at AMD, I was always impressed with how the company managed to keep two teams in complete isolation from each other to protect client confidentiality. One team was designing the next chip for the Microsoft XBox, while the other was designing a chip for the Sony Playstation. Each client had their own gaming console intellectual property and requirements which had to be protected from the other team. It was a successful model for AMD, who still owns that market.  But all that secrecy can be difficult and expensive. And it is hard to scale that business. What if the chip vendor let the customer do more of the design work, and provide their IP for inclusion into the customers’ chips? And of course, the client could leverage the vendors relationship with TSMC or Samsung for fabrication to lower costs and improve time to market.  So it should surprise exactly nobody that Nvidia has announced it formed a group tasked with forging this new business model, helping clients build their own solution using Nvidia IP or perhaps even chiplets. Nvidia is up yet another 3% on the news.  Perhaps Nvidia didn’t need to buy Arm after all. With this move, it is beginning to build an AI licensing giant.  I’m sure we will hear more about this at GTC next month, but here is our perspective.  Many companies who design their own chips to lower cost or provide a more bespoke solution to their computational needs already partner with companies like Broadcomm and Marvell for back-end physical design, SerDes blocks, or IP such as Marvell’s high-performance Arm CPU cores. And EDA solution providers like Cadence and Synopsys make a good business of providing blocks of IP that SOC designers can drop into their chips, saving money and speeding time to market. But this is not new news. Sima.ai, for example, uses an image processor from Synopsys in its edge AI chip.  Startup Tenstorrent, led by Jim Keller, saw this opportunity coming, and has pivoted the Toronto- and Austin-based company from a potential Nvidia competitor to an IP and design shop, provide chiplets and intellectual property to companies like Kia and LG.  In the world of AI, we are seeing a new trend, where designers of TVs or cars or networking equipment want to build a bespoke solution to lower costs or provide a differentiated solution including AI, but they don’t have the need or expertise to build the whole chip. Google, Amazon AWS, Meta (projected to use their own chip later this year), and Microsoft Azure already have their own custom chips for in-house AI alongside their Nvidia GPUs for cloud customers. Could they partner with Nvidia for future designs?  Could these Nvidia custom-chip clients tap into Nvidia’s in-house and AWS supercomputers to accelerate and optimize those design efforts? It would be a nice piece of additional revenue as well as an incredible differentiator. If so, this could be why Nvidia is hosting their latest “internal” supercomputer, Project Cieba, at AWS data centers, where the infrastructure for secure cloud services are already available. Nvidia could make chip design optimization services available on Cieba.  While this speculation may be a bridge too far, doing so would indicate that Nvidia sees the writing on the wall, and is already gearing up to transform the industry once again.  Ok, perhaps I went to far in my speculations. But if any company can pull this off, it would be Nvidia. All tech commoditizes over time, especially previous generations of silicon. When Nvidia was courting Arm, I often said the acquisition would give Nvidia the possibility of monetizing that which they do not want to productize, through licensing deals.  Looks like thats exactly what Nvidia is doing now.'"
      ]
     },
     "execution_count": 162,
     "metadata": {},
     "output_type": "execute_result"
    }
   ],
   "source": [
    "fb_news['text'][0] = fb_news['text'][0].replace('\\n', ' ')\n",
    "fb_news['text'] = fb_news['text'].iloc[0]\n",
    "fb_news['text'][0]"
   ]
  },
  {
   "cell_type": "markdown",
   "metadata": {},
   "source": [
    "* The Economist"
   ]
  },
  {
   "cell_type": "code",
   "execution_count": null,
   "metadata": {},
   "outputs": [],
   "source": []
  },
  {
   "cell_type": "markdown",
   "metadata": {},
   "source": [
    "* Reuters"
   ]
  },
  {
   "cell_type": "code",
   "execution_count": null,
   "metadata": {},
   "outputs": [],
   "source": []
  }
 ],
 "metadata": {
  "kernelspec": {
   "display_name": "practice-venv",
   "language": "python",
   "name": "python3"
  },
  "language_info": {
   "codemirror_mode": {
    "name": "ipython",
    "version": 3
   },
   "file_extension": ".py",
   "mimetype": "text/x-python",
   "name": "python",
   "nbconvert_exporter": "python",
   "pygments_lexer": "ipython3",
   "version": "3.9.0"
  }
 },
 "nbformat": 4,
 "nbformat_minor": 2
}
